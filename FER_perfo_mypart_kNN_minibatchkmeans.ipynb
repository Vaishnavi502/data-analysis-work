{
  "cells": [
    {
      "cell_type": "code",
      "execution_count": null,
      "metadata": {
        "colab": {
          "base_uri": "https://localhost:8080/"
        },
        "id": "G5pCzCXSYTpm",
        "outputId": "d51a0f05-cf72-4fdb-e9e9-ac84c05ce745"
      },
      "outputs": [
        {
          "output_type": "stream",
          "name": "stdout",
          "text": [
            "Mounted at /content/gdrive/\n"
          ]
        }
      ],
      "source": [
        "from google.colab import drive\n",
        "\n",
        "drive.mount('/content/gdrive/', force_remount=True)"
      ]
    },
    {
      "cell_type": "code",
      "execution_count": null,
      "metadata": {
        "id": "Kyo6niXPbYbK"
      },
      "outputs": [],
      "source": [
        "from IPython.display import clear_output\n",
        "!pip install tf_explain\n",
        "! pip install segmentation-models\n",
        "clear_output()\n",
        "from tf_explain.core.grad_cam import GradCAM\n",
        "\n",
        "#!pip install git+git://github.com/stared/livelossplot.git\n",
        "import numpy as np\n",
        "import seaborn as sns\n",
        "import matplotlib.pyplot as plt\n",
        "#import utils\n",
        "import os\n",
        "%matplotlib inline\n",
        "\n",
        "import tensorflow as tf\n",
        "from skimage.color import rgb2gray\n",
        "from tensorflow.keras import Input\n",
        "from tensorflow.keras.models import Model, load_model, save_model\n",
        "from tensorflow.keras.layers import Input, Activation, BatchNormalization, Dropout, Lambda, Conv2D, Conv2DTranspose, MaxPooling2D, concatenate, Flatten, Dense, Reshape, Multiply, Add,UpSampling2D\n",
        "from tensorflow.keras.optimizers import Adam\n",
        "from tensorflow.keras.callbacks import EarlyStopping, ModelCheckpoint\n",
        "\n",
        "\n",
        "import tensorflow as tf\n",
        "from keras import regularizers\n",
        "from tensorflow.keras.preprocessing.image import ImageDataGenerator, load_img\n",
        "from tensorflow.keras.layers import Dense, Input, Dropout,Flatten, Conv2D\n",
        "from tensorflow.keras.layers import BatchNormalization, Activation, MaxPooling2D\n",
        "from tensorflow.keras.models import Model, Sequential\n",
        "from tensorflow.keras.optimizers import Adam\n",
        "from tensorflow.keras.callbacks import ModelCheckpoint, ReduceLROnPlateau\n",
        "from tensorflow.keras.utils import plot_model\n",
        "\n",
        "from IPython.display import SVG, Image\n",
        "# from livelossplot import PlotLossesTensorFlo\n",
        "\n",
        "import numpy as np # linear algebra\n",
        "import pandas as pd # data processing, CSV file I/O (e.g. pd.read_csv)\n",
        "import os,cv2\n",
        "import numpy as np\n",
        "import matplotlib.pyplot as plt\n",
        "import matplotlib.image as mpimg\n",
        "from pylab import rcParams\n",
        "rcParams['figure.figsize'] = 20, 10\n",
        "\n",
        "from sklearn.utils import shuffle\n",
        "from sklearn.model_selection import train_test_split"
      ]
    },
    {
      "cell_type": "markdown",
      "metadata": {
        "id": "FWZg9CV0bE7a"
      },
      "source": [
        "# kNN"
      ]
    },
    {
      "cell_type": "code",
      "execution_count": null,
      "metadata": {
        "id": "iYoiFH2Zba6J"
      },
      "outputs": [],
      "source": [
        "df = pd.read_csv(\"gdrive/MyDrive/fer2013.csv\")"
      ]
    },
    {
      "cell_type": "code",
      "execution_count": null,
      "metadata": {
        "id": "KnzJ5rif-_bh"
      },
      "outputs": [],
      "source": [
        "traindf = df[df['Usage']=='Training']"
      ]
    },
    {
      "cell_type": "code",
      "execution_count": null,
      "metadata": {
        "colab": {
          "base_uri": "https://localhost:8080/",
          "height": 206
        },
        "id": "7QUUckdS12L_",
        "outputId": "6878d0b5-a1bd-4dfe-cb8e-b8c75bf5034d"
      },
      "outputs": [
        {
          "output_type": "execute_result",
          "data": {
            "text/plain": [
              "   emotion                                             pixels     Usage\n",
              "0        0  70 80 82 72 58 58 60 63 54 58 60 48 89 115 121...  Training\n",
              "1        0  151 150 147 155 148 133 111 140 170 174 182 15...  Training\n",
              "2        2  231 212 156 164 174 138 161 173 182 200 106 38...  Training\n",
              "3        4  24 32 36 30 32 23 19 20 30 41 21 22 32 34 21 1...  Training\n",
              "4        6  4 0 0 0 0 0 0 0 0 0 0 0 3 15 23 28 48 50 58 84...  Training"
            ],
            "text/html": [
              "\n",
              "  <div id=\"df-36889513-902f-4fc3-987f-2c0a95f87368\">\n",
              "    <div class=\"colab-df-container\">\n",
              "      <div>\n",
              "<style scoped>\n",
              "    .dataframe tbody tr th:only-of-type {\n",
              "        vertical-align: middle;\n",
              "    }\n",
              "\n",
              "    .dataframe tbody tr th {\n",
              "        vertical-align: top;\n",
              "    }\n",
              "\n",
              "    .dataframe thead th {\n",
              "        text-align: right;\n",
              "    }\n",
              "</style>\n",
              "<table border=\"1\" class=\"dataframe\">\n",
              "  <thead>\n",
              "    <tr style=\"text-align: right;\">\n",
              "      <th></th>\n",
              "      <th>emotion</th>\n",
              "      <th>pixels</th>\n",
              "      <th>Usage</th>\n",
              "    </tr>\n",
              "  </thead>\n",
              "  <tbody>\n",
              "    <tr>\n",
              "      <th>0</th>\n",
              "      <td>0</td>\n",
              "      <td>70 80 82 72 58 58 60 63 54 58 60 48 89 115 121...</td>\n",
              "      <td>Training</td>\n",
              "    </tr>\n",
              "    <tr>\n",
              "      <th>1</th>\n",
              "      <td>0</td>\n",
              "      <td>151 150 147 155 148 133 111 140 170 174 182 15...</td>\n",
              "      <td>Training</td>\n",
              "    </tr>\n",
              "    <tr>\n",
              "      <th>2</th>\n",
              "      <td>2</td>\n",
              "      <td>231 212 156 164 174 138 161 173 182 200 106 38...</td>\n",
              "      <td>Training</td>\n",
              "    </tr>\n",
              "    <tr>\n",
              "      <th>3</th>\n",
              "      <td>4</td>\n",
              "      <td>24 32 36 30 32 23 19 20 30 41 21 22 32 34 21 1...</td>\n",
              "      <td>Training</td>\n",
              "    </tr>\n",
              "    <tr>\n",
              "      <th>4</th>\n",
              "      <td>6</td>\n",
              "      <td>4 0 0 0 0 0 0 0 0 0 0 0 3 15 23 28 48 50 58 84...</td>\n",
              "      <td>Training</td>\n",
              "    </tr>\n",
              "  </tbody>\n",
              "</table>\n",
              "</div>\n",
              "      <button class=\"colab-df-convert\" onclick=\"convertToInteractive('df-36889513-902f-4fc3-987f-2c0a95f87368')\"\n",
              "              title=\"Convert this dataframe to an interactive table.\"\n",
              "              style=\"display:none;\">\n",
              "        \n",
              "  <svg xmlns=\"http://www.w3.org/2000/svg\" height=\"24px\"viewBox=\"0 0 24 24\"\n",
              "       width=\"24px\">\n",
              "    <path d=\"M0 0h24v24H0V0z\" fill=\"none\"/>\n",
              "    <path d=\"M18.56 5.44l.94 2.06.94-2.06 2.06-.94-2.06-.94-.94-2.06-.94 2.06-2.06.94zm-11 1L8.5 8.5l.94-2.06 2.06-.94-2.06-.94L8.5 2.5l-.94 2.06-2.06.94zm10 10l.94 2.06.94-2.06 2.06-.94-2.06-.94-.94-2.06-.94 2.06-2.06.94z\"/><path d=\"M17.41 7.96l-1.37-1.37c-.4-.4-.92-.59-1.43-.59-.52 0-1.04.2-1.43.59L10.3 9.45l-7.72 7.72c-.78.78-.78 2.05 0 2.83L4 21.41c.39.39.9.59 1.41.59.51 0 1.02-.2 1.41-.59l7.78-7.78 2.81-2.81c.8-.78.8-2.07 0-2.86zM5.41 20L4 18.59l7.72-7.72 1.47 1.35L5.41 20z\"/>\n",
              "  </svg>\n",
              "      </button>\n",
              "      \n",
              "  <style>\n",
              "    .colab-df-container {\n",
              "      display:flex;\n",
              "      flex-wrap:wrap;\n",
              "      gap: 12px;\n",
              "    }\n",
              "\n",
              "    .colab-df-convert {\n",
              "      background-color: #E8F0FE;\n",
              "      border: none;\n",
              "      border-radius: 50%;\n",
              "      cursor: pointer;\n",
              "      display: none;\n",
              "      fill: #1967D2;\n",
              "      height: 32px;\n",
              "      padding: 0 0 0 0;\n",
              "      width: 32px;\n",
              "    }\n",
              "\n",
              "    .colab-df-convert:hover {\n",
              "      background-color: #E2EBFA;\n",
              "      box-shadow: 0px 1px 2px rgba(60, 64, 67, 0.3), 0px 1px 3px 1px rgba(60, 64, 67, 0.15);\n",
              "      fill: #174EA6;\n",
              "    }\n",
              "\n",
              "    [theme=dark] .colab-df-convert {\n",
              "      background-color: #3B4455;\n",
              "      fill: #D2E3FC;\n",
              "    }\n",
              "\n",
              "    [theme=dark] .colab-df-convert:hover {\n",
              "      background-color: #434B5C;\n",
              "      box-shadow: 0px 1px 3px 1px rgba(0, 0, 0, 0.15);\n",
              "      filter: drop-shadow(0px 1px 2px rgba(0, 0, 0, 0.3));\n",
              "      fill: #FFFFFF;\n",
              "    }\n",
              "  </style>\n",
              "\n",
              "      <script>\n",
              "        const buttonEl =\n",
              "          document.querySelector('#df-36889513-902f-4fc3-987f-2c0a95f87368 button.colab-df-convert');\n",
              "        buttonEl.style.display =\n",
              "          google.colab.kernel.accessAllowed ? 'block' : 'none';\n",
              "\n",
              "        async function convertToInteractive(key) {\n",
              "          const element = document.querySelector('#df-36889513-902f-4fc3-987f-2c0a95f87368');\n",
              "          const dataTable =\n",
              "            await google.colab.kernel.invokeFunction('convertToInteractive',\n",
              "                                                     [key], {});\n",
              "          if (!dataTable) return;\n",
              "\n",
              "          const docLinkHtml = 'Like what you see? Visit the ' +\n",
              "            '<a target=\"_blank\" href=https://colab.research.google.com/notebooks/data_table.ipynb>data table notebook</a>'\n",
              "            + ' to learn more about interactive tables.';\n",
              "          element.innerHTML = '';\n",
              "          dataTable['output_type'] = 'display_data';\n",
              "          await google.colab.output.renderOutput(dataTable, element);\n",
              "          const docLink = document.createElement('div');\n",
              "          docLink.innerHTML = docLinkHtml;\n",
              "          element.appendChild(docLink);\n",
              "        }\n",
              "      </script>\n",
              "    </div>\n",
              "  </div>\n",
              "  "
            ]
          },
          "metadata": {},
          "execution_count": 5
        }
      ],
      "source": [
        "traindf.head()"
      ]
    },
    {
      "cell_type": "code",
      "execution_count": null,
      "metadata": {
        "id": "jIT667Ou6eiv"
      },
      "outputs": [],
      "source": [
        "x_data = traindf['pixels']\n",
        "y_data = traindf['emotion']"
      ]
    },
    {
      "cell_type": "code",
      "source": [
        "ax = sns.countplot(x=\"emotion\", data=df)\n"
      ],
      "metadata": {
        "colab": {
          "base_uri": "https://localhost:8080/",
          "height": 588
        },
        "id": "dpvYHYEZ2aC_",
        "outputId": "06504429-05b7-4cbb-a36d-3269a6cd3725"
      },
      "execution_count": null,
      "outputs": [
        {
          "output_type": "display_data",
          "data": {
            "text/plain": [
              "<Figure size 2000x1000 with 1 Axes>"
            ],
            "image/png": "[encoded data removed]"
          },
          "metadata": {}
        }
      ]
    },
    {
      "cell_type": "markdown",
      "source": [
        "Inference: An imbalance of data is observed as some classes like 1 have very low instances while class 3 has more no. of instances"
      ],
      "metadata": {
        "id": "nE-T9qtN2klR"
      }
    },
    {
      "cell_type": "markdown",
      "source": [
        "To overcome, we go for resampling the data by generating new data of minority classes and store it as new train dataset."
      ],
      "metadata": {
        "id": "Gk2WvTAK2x1a"
      }
    },
    {
      "cell_type": "code",
      "execution_count": null,
      "metadata": {
        "colab": {
          "base_uri": "https://localhost:8080/"
        },
        "id": "qtrs4kUJ9hbM",
        "outputId": "875d14e3-86e8-4604-9099-5dcbff2ed178"
      },
      "outputs": [
        {
          "output_type": "stream",
          "name": "stdout",
          "text": [
            "(50505, 1)   (50505,)\n"
          ]
        }
      ],
      "source": [
        "from imblearn.over_sampling import RandomOverSampler\n",
        "oversampler = RandomOverSampler(sampling_strategy='auto')\n",
        "\n",
        "x_data, y_data = oversampler.fit_resample(x_data.values.reshape(-1,1), y_data)\n",
        "print(x_data.shape,\" \",y_data.shape)"
      ]
    },
    {
      "cell_type": "code",
      "execution_count": null,
      "metadata": {
        "colab": {
          "base_uri": "https://localhost:8080/"
        },
        "id": "6ZtfW9XN9osn",
        "outputId": "f3ebd973-3056-46ff-db8a-9e8420aaceaa"
      },
      "outputs": [
        {
          "output_type": "execute_result",
          "data": {
            "text/plain": [
              "array([[0.27450982, 0.3137255 , 0.32156864, ..., 0.41568628, 0.42745098,\n",
              "        0.32156864],\n",
              "       [0.5921569 , 0.5882353 , 0.5764706 , ..., 0.75686276, 0.7176471 ,\n",
              "        0.72156864],\n",
              "       [0.90588236, 0.83137256, 0.6117647 , ..., 0.34509805, 0.43137255,\n",
              "        0.59607846],\n",
              "       ...,\n",
              "       [0.3019608 , 0.30588236, 0.30980393, ..., 0.49019608, 0.2627451 ,\n",
              "        0.26666668],\n",
              "       [0.33333334, 0.32941177, 0.3529412 , ..., 0.22745098, 0.28627452,\n",
              "        0.32941177],\n",
              "       [1.        , 0.99607843, 1.        , ..., 0.99607843, 1.        ,\n",
              "        1.        ]], dtype=float32)"
            ]
          },
          "metadata": {},
          "execution_count": 8
        }
      ],
      "source": [
        "x_data = pd.Series(x_data.flatten())\n",
        "x_data = np.array(list(map(str.split, x_data)), np.float32)\n",
        "x_data /= 255\n",
        "x_data[:10]"
      ]
    },
    {
      "cell_type": "code",
      "execution_count": null,
      "metadata": {
        "id": "iKT_Rvmw-NRQ"
      },
      "outputs": [],
      "source": [
        "y_data = np.array(y_data)"
      ]
    },
    {
      "cell_type": "code",
      "execution_count": null,
      "metadata": {
        "colab": {
          "base_uri": "https://localhost:8080/"
        },
        "id": "bZ5m6ZPc-EQE",
        "outputId": "d2815b8f-a901-454f-af2c-73de42ad22bd"
      },
      "outputs": [
        {
          "output_type": "execute_result",
          "data": {
            "text/plain": [
              "((50505, 48, 48, 1), (50505, 1))"
            ]
          },
          "metadata": {},
          "execution_count": 10
        }
      ],
      "source": [
        "x_data = x_data.reshape(-1, 48, 48, 1)\n",
        "y_data = y_data.reshape(y_data.shape[0], 1)\n",
        "x_data.shape,y_data.shape"
      ]
    },
    {
      "cell_type": "code",
      "execution_count": null,
      "metadata": {
        "colab": {
          "base_uri": "https://localhost:8080/"
        },
        "id": "yq0RX-vY-SLx",
        "outputId": "4dda7d02-eb27-4269-c824-54f62b923dbb"
      },
      "outputs": [
        {
          "output_type": "stream",
          "name": "stdout",
          "text": [
            "x_train: (45454, 48, 48, 1)\n",
            "X_test: (2526, 48, 48, 1)\n",
            "X_val: (2525, 48, 48, 1)\n",
            "y_train: (45454, 1)\n",
            "y_test: (2526, 1)\n",
            "y_val: (2525, 1)\n"
          ]
        }
      ],
      "source": [
        "x_train, X_test, y_train, y_test = train_test_split(x_data, y_data, test_size = 0.1, random_state = 42)\n",
        "X_val, X_test, y_val, y_test = train_test_split(X_test, y_test, test_size=0.5, random_state=42)\n",
        "print(\"x_train: \"+str(x_train.shape))\n",
        "print(\"X_test: \"+str(X_test.shape))\n",
        "print(\"X_val: \"+str(X_val.shape))\n",
        "print(\"y_train: \"+str(y_train.shape))\n",
        "print(\"y_test: \"+str(y_test.shape))\n",
        "print(\"y_val: \"+str(y_val.shape))"
      ]
    },
    {
      "cell_type": "code",
      "execution_count": null,
      "metadata": {
        "colab": {
          "base_uri": "https://localhost:8080/"
        },
        "id": "rCiI19uI-YRP",
        "outputId": "562419bc-58e9-44e0-b0b5-b0992a62008f"
      },
      "outputs": [
        {
          "output_type": "stream",
          "name": "stdout",
          "text": [
            "x_train: (45454, 48, 48, 1)\n",
            "X_test: (2526, 2304)\n",
            "X_val: (2525, 2304)\n",
            "y_train: (45454, 1)\n",
            "y_test: (2526, 1)\n",
            "y_val: (2525, 1)\n"
          ]
        }
      ],
      "source": [
        "from builtins import range\n",
        "from builtins import object\n",
        "\n",
        "num_training = x_train.shape[0]\n",
        "mask = list(range(num_training))\n",
        "X_train = x_train[mask]\n",
        "y_train = y_train[mask]\n",
        "\n",
        "num_test = X_test.shape[0]\n",
        "mask = list(range(num_test))\n",
        "X_test = X_test[mask]\n",
        "y_test = y_test[mask]\n",
        "\n",
        "num_val = X_val.shape[0]\n",
        "mask = list(range(num_val))\n",
        "X_val = X_val[mask]\n",
        "y_val = y_val[mask]\n",
        "\n",
        "# Reshape the image data into rows\n",
        "X_train = np.reshape(x_train, (x_train.shape[0], -1))\n",
        "X_test = np.reshape(X_test, (X_test.shape[0], -1))\n",
        "X_val = np.reshape(X_val, (X_val.shape[0], -1))\n",
        "\n",
        "print(\"x_train: \"+str(x_train.shape))\n",
        "print(\"X_test: \"+str(X_test.shape))\n",
        "print(\"X_val: \"+str(X_val.shape))\n",
        "print(\"y_train: \"+str(y_train.shape))\n",
        "print(\"y_test: \"+str(y_test.shape))\n",
        "print(\"y_val: \"+str(y_val.shape))"
      ]
    },
    {
      "cell_type": "code",
      "execution_count": null,
      "metadata": {
        "id": "Vhm_5t3GHyCc"
      },
      "outputs": [],
      "source": [
        "from sklearn.neighbors import KNeighborsClassifier\n",
        "import warnings\n",
        "warnings.filterwarnings('ignore')"
      ]
    },
    {
      "cell_type": "markdown",
      "metadata": {
        "id": "sS9X6mn3NnHY"
      },
      "source": [
        "Reshape 4D x_train np array (45454,48,48,1) into 2D array by taking row size as 45454 and columns as 48x48x1"
      ]
    },
    {
      "cell_type": "code",
      "execution_count": null,
      "metadata": {
        "id": "WoVTZSCBIhxN"
      },
      "outputs": [],
      "source": [
        "nsamples, nx, ny, nz = x_train.shape\n",
        "d2_train_dataset = x_train.reshape((nsamples,nx*ny*nz))"
      ]
    },
    {
      "cell_type": "code",
      "execution_count": null,
      "metadata": {
        "colab": {
          "base_uri": "https://localhost:8080/",
          "height": 93
        },
        "id": "AgXNcUC1FGBM",
        "outputId": "45ebe6b2-c905-44c1-a61c-cdbcc1106360"
      },
      "outputs": [
        {
          "output_type": "stream",
          "name": "stdout",
          "text": [
            "Val Accuracy for k=1\n"
          ]
        },
        {
          "output_type": "execute_result",
          "data": {
            "text/plain": [
              "KNeighborsClassifier(n_neighbors=1)"
            ],
            "text/html": [
              "<style>#sk-container-id-1 {color: black;background-color: white;}#sk-container-id-1 pre{padding: 0;}#sk-container-id-1 div.sk-toggleable {background-color: white;}#sk-container-id-1 label.sk-toggleable__label {cursor: pointer;display: block;width: 100%;margin-bottom: 0;padding: 0.3em;box-sizing: border-box;text-align: center;}#sk-container-id-1 label.sk-toggleable__label-arrow:before {content: \"▸\";float: left;margin-right: 0.25em;color: #696969;}#sk-container-id-1 label.sk-toggleable__label-arrow:hover:before {color: black;}#sk-container-id-1 div.sk-estimator:hover label.sk-toggleable__label-arrow:before {color: black;}#sk-container-id-1 div.sk-toggleable__content {max-height: 0;max-width: 0;overflow: hidden;text-align: left;background-color: #f0f8ff;}#sk-container-id-1 div.sk-toggleable__content pre {margin: 0.2em;color: black;border-radius: 0.25em;background-color: #f0f8ff;}#sk-container-id-1 input.sk-toggleable__control:checked~div.sk-toggleable__content {max-height: 200px;max-width: 100%;overflow: auto;}#sk-container-id-1 input.sk-toggleable__control:checked~label.sk-toggleable__label-arrow:before {content: \"▾\";}#sk-container-id-1 div.sk-estimator input.sk-toggleable__control:checked~label.sk-toggleable__label {background-color: #d4ebff;}#sk-container-id-1 div.sk-label input.sk-toggleable__control:checked~label.sk-toggleable__label {background-color: #d4ebff;}#sk-container-id-1 input.sk-hidden--visually {border: 0;clip: rect(1px 1px 1px 1px);clip: rect(1px, 1px, 1px, 1px);height: 1px;margin: -1px;overflow: hidden;padding: 0;position: absolute;width: 1px;}#sk-container-id-1 div.sk-estimator {font-family: monospace;background-color: #f0f8ff;border: 1px dotted black;border-radius: 0.25em;box-sizing: border-box;margin-bottom: 0.5em;}#sk-container-id-1 div.sk-estimator:hover {background-color: #d4ebff;}#sk-container-id-1 div.sk-parallel-item::after {content: \"\";width: 100%;border-bottom: 1px solid gray;flex-grow: 1;}#sk-container-id-1 div.sk-label:hover label.sk-toggleable__label {background-color: #d4ebff;}#sk-container-id-1 div.sk-serial::before {content: \"\";position: absolute;border-left: 1px solid gray;box-sizing: border-box;top: 0;bottom: 0;left: 50%;z-index: 0;}#sk-container-id-1 div.sk-serial {display: flex;flex-direction: column;align-items: center;background-color: white;padding-right: 0.2em;padding-left: 0.2em;position: relative;}#sk-container-id-1 div.sk-item {position: relative;z-index: 1;}#sk-container-id-1 div.sk-parallel {display: flex;align-items: stretch;justify-content: center;background-color: white;position: relative;}#sk-container-id-1 div.sk-item::before, #sk-container-id-1 div.sk-parallel-item::before {content: \"\";position: absolute;border-left: 1px solid gray;box-sizing: border-box;top: 0;bottom: 0;left: 50%;z-index: -1;}#sk-container-id-1 div.sk-parallel-item {display: flex;flex-direction: column;z-index: 1;position: relative;background-color: white;}#sk-container-id-1 div.sk-parallel-item:first-child::after {align-self: flex-end;width: 50%;}#sk-container-id-1 div.sk-parallel-item:last-child::after {align-self: flex-start;width: 50%;}#sk-container-id-1 div.sk-parallel-item:only-child::after {width: 0;}#sk-container-id-1 div.sk-dashed-wrapped {border: 1px dashed gray;margin: 0 0.4em 0.5em 0.4em;box-sizing: border-box;padding-bottom: 0.4em;background-color: white;}#sk-container-id-1 div.sk-label label {font-family: monospace;font-weight: bold;display: inline-block;line-height: 1.2em;}#sk-container-id-1 div.sk-label-container {text-align: center;}#sk-container-id-1 div.sk-container {/* jupyter's `normalize.less` sets `[hidden] { display: none; }` but bootstrap.min.css set `[hidden] { display: none !important; }` so we also need the `!important` here to be able to override the default hidden behavior on the sphinx rendered scikit-learn.org. See: https://github.com/scikit-learn/scikit-learn/issues/21755 */display: inline-block !important;position: relative;}#sk-container-id-1 div.sk-text-repr-fallback {display: none;}</style><div id=\"sk-container-id-1\" class=\"sk-top-container\"><div class=\"sk-text-repr-fallback\"><pre>KNeighborsClassifier(n_neighbors=1)</pre><b>In a Jupyter environment, please rerun this cell to show the HTML representation or trust the notebook. <br />On GitHub, the HTML representation is unable to render, please try loading this page with nbviewer.org.</b></div><div class=\"sk-container\" hidden><div class=\"sk-item\"><div class=\"sk-estimator sk-toggleable\"><input class=\"sk-toggleable__control sk-hidden--visually\" id=\"sk-estimator-id-1\" type=\"checkbox\" checked><label for=\"sk-estimator-id-1\" class=\"sk-toggleable__label sk-toggleable__label-arrow\">KNeighborsClassifier</label><div class=\"sk-toggleable__content\"><pre>KNeighborsClassifier(n_neighbors=1)</pre></div></div></div></div></div>"
            ]
          },
          "metadata": {},
          "execution_count": 24
        }
      ],
      "source": [
        "print(\"Val Accuracy for k=1\")\n",
        "classifier = KNeighborsClassifier(n_neighbors=1)\n",
        "classifier.fit(d2_train_dataset, y_train)"
      ]
    },
    {
      "cell_type": "code",
      "execution_count": null,
      "metadata": {
        "colab": {
          "base_uri": "https://localhost:8080/"
        },
        "id": "miwnHexhJQ2R",
        "outputId": "7576c5a7-4678-4a1b-9fd5-5db431be0db8"
      },
      "outputs": [
        {
          "output_type": "stream",
          "name": "stdout",
          "text": [
            "Accuracy of the model for validation dataset:\n",
            "0.7572277227722772\n"
          ]
        }
      ],
      "source": [
        "# Calculate the accuracy of the model \n",
        "print(\"Accuracy of the model for validation dataset:\")\n",
        "print(classifier.score(X_val, y_val))"
      ]
    },
    {
      "cell_type": "code",
      "execution_count": null,
      "metadata": {
        "colab": {
          "base_uri": "https://localhost:8080/"
        },
        "id": "XxMWYeB9I4WP",
        "outputId": "fee51eda-e51e-4210-a3c6-44ee1c6018ea"
      },
      "outputs": [
        {
          "output_type": "stream",
          "name": "stdout",
          "text": [
            "Accuracy of the model for test dataset:\n",
            "0.7743467933491687\n"
          ]
        }
      ],
      "source": [
        "# Calculate the accuracy of the model \n",
        "print(\"Accuracy of the model for test dataset:\")\n",
        "print(classifier.score(X_test, y_test))"
      ]
    },
    {
      "cell_type": "code",
      "execution_count": null,
      "metadata": {
        "colab": {
          "base_uri": "https://localhost:8080/"
        },
        "id": "L3gb1irvLPre",
        "outputId": "f0dcd412-1ae5-40a8-ff38-84abd705751e"
      },
      "outputs": [
        {
          "output_type": "execute_result",
          "data": {
            "text/plain": [
              "((6265, 2304), (6265, 1))"
            ]
          },
          "metadata": {},
          "execution_count": 14
        }
      ],
      "source": [
        "# Calculate the accuracy of the test FER dataset\n",
        "testdf = df[df['Usage']=='PublicTest']\n",
        "# testdf.head()\n",
        "X_test = testdf['pixels']\n",
        "y_test = testdf['emotion']\n",
        "oversamp = RandomOverSampler(sampling_strategy='auto')\n",
        "Xt, yt = oversamp.fit_resample(X_test.values.reshape(-1,1), y_test)\n",
        "Xt = pd.Series(Xt.flatten())\n",
        "x_test = np.array(list(map(str.split, Xt)), np.float32)\n",
        "x_test /= 255\n",
        "Y_test = np.array(yt)\n",
        "x_test = x_test.reshape(-1, 48, 48, 1)\n",
        "Y_test = Y_test.reshape(Y_test.shape[0], 1)\n",
        "\n",
        "nsamp, nxt, nyt, nzt = x_test.shape\n",
        "x_test = x_test.reshape((nsamp,nxt*nyt*nzt))\n",
        "\n",
        "x_test.shape,Y_test.shape\n"
      ]
    },
    {
      "cell_type": "code",
      "execution_count": null,
      "metadata": {
        "colab": {
          "base_uri": "https://localhost:8080/"
        },
        "id": "2ZuyZDsKP14m",
        "outputId": "fcc12ab9-458c-4c13-b78e-c2ef701882b4"
      },
      "outputs": [
        {
          "name": "stdout",
          "output_type": "stream",
          "text": [
            "Accuracy of the model for test dataset:\n",
            "0.4244213886671987\n"
          ]
        }
      ],
      "source": [
        "print(\"Accuracy of the model for test dataset:\")\n",
        "print(classifier.score(x_test, Y_test))"
      ]
    },
    {
      "cell_type": "code",
      "execution_count": null,
      "metadata": {
        "colab": {
          "base_uri": "https://localhost:8080/",
          "height": 467
        },
        "id": "PA7qQwu4R5RS",
        "outputId": "66534867-5724-4ad9-a441-da5401223f50"
      },
      "outputs": [
        {
          "name": "stdout",
          "output_type": "stream",
          "text": [
            "Using SKLEARN\n"
          ]
        },
        {
          "data": {
            "image/png": "[encoded data removed]",
            "text/plain": [
              "<Figure size 2000x1000 with 1 Axes>"
            ]
          },
          "metadata": {},
          "output_type": "display_data"
        },
        {
          "name": "stdout",
          "output_type": "stream",
          "text": [
            "max acc at k=1 acc of 0.4244213886671987\n"
          ]
        }
      ],
      "source": [
        "print(\"Using SKLEARN\")\n",
        "lix = []\n",
        "liy = []\n",
        "index=0\n",
        "acc=0\n",
        "for k in range(1, 25):\n",
        "    neigh = KNeighborsClassifier(n_neighbors=k)\n",
        "    neigh.fit(d2_train_dataset, y_train)\n",
        "    liy.append(neigh.score(x_test, Y_test))\n",
        "    if liy[k-1]>acc:\n",
        "        acc=liy[k-1]\n",
        "        index=k-1\n",
        "    lix.append(k)\n",
        "\n",
        "plt.plot(lix, liy)\n",
        "plt.show()\n",
        "print(\"max acc at k=\"+str(index+1)+\" acc of \"+str(acc))"
      ]
    },
    {
      "cell_type": "code",
      "execution_count": null,
      "metadata": {
        "colab": {
          "background_save": true,
          "base_uri": "https://localhost:8080/"
        },
        "id": "Ub6YmSfyhdOJ",
        "outputId": "5502b206-07b3-4091-fbb6-a8d057934253"
      },
      "outputs": [
        {
          "name": "stdout",
          "output_type": "stream",
          "text": [
            "Using SKLEARN\n"
          ]
        },
        {
          "data": {
            "image/png": "[encoded data removed]",
            "text/plain": [
              "<Figure size 2000x1000 with 1 Axes>"
            ]
          },
          "metadata": {},
          "output_type": "display_data"
        },
        {
          "name": "stdout",
          "output_type": "stream",
          "text": [
            "max acc at k=1 acc of 0.4244213886671987\n"
          ]
        }
      ],
      "source": [
        "print(\"Using SKLEARN\")\n",
        "lix = []\n",
        "liy = []\n",
        "index=0\n",
        "acc=0\n",
        "for k in range(1, 100):\n",
        "    neigh = KNeighborsClassifier(n_neighbors=k)\n",
        "    neigh.fit(d2_train_dataset, y_train)\n",
        "    liy.append(neigh.score(x_test, Y_test))\n",
        "    if liy[k-1]>acc:\n",
        "        acc=liy[k-1]\n",
        "        index=k-1\n",
        "    lix.append(k)\n",
        "\n",
        "plt.plot(lix, liy)\n",
        "plt.show()\n",
        "print(\"max acc at k=\"+str(index+1)+\" acc of \"+str(acc))"
      ]
    },
    {
      "cell_type": "markdown",
      "source": [
        "### trying custom knn function"
      ],
      "metadata": {
        "id": "ng-Ir0zoKSIk"
      }
    },
    {
      "cell_type": "code",
      "execution_count": null,
      "metadata": {
        "id": "H6SmZSY3VBUA"
      },
      "outputs": [],
      "source": [
        "def most_common(lst):\n",
        "    '''Returns the most common element in a list'''\n",
        "    return max(set(lst), key=lst.count)\n",
        "def euclidean(point, data):\n",
        "    '''Euclidean distance between a point  & data'''\n",
        "    return np.sqrt(np.sum((point - data)**2, axis=1))\n",
        "class KNeighborsClassifier():\n",
        "    def __init__(self, k=5, dist_metric=euclidean):\n",
        "        self.k = k\n",
        "        self.dist_metric = dist_metric\n",
        "    def fit(self, X_train, y_train):\n",
        "        self.X_train = X_train\n",
        "        self.y_train = y_train\n",
        "    def predict(self, X_test):\n",
        "        neighbors = []\n",
        "        for x in X_test:\n",
        "            distances = self.dist_metric(x, self.X_train)\n",
        "            y_sorted = [y for _, y in sorted(zip(distances, self.y_train))]\n",
        "            neighbors.append(y_sorted[:self.k])\n",
        "        return list(map(most_common, neighbors))\n",
        "    def evaluate(self, X_test, y_test):\n",
        "        y_pred = self.predict(X_test)\n",
        "        accuracy = sum(y_pred == y_test) / len(y_test)\n",
        "        return accuracy\n",
        "accuracies = []\n",
        "ks = range(1, 30)\n",
        "for k in ks:\n",
        "    knn = KNeighborsClassifier(k=k)\n",
        "    knn.fit(d2_train_dataset, y_train)\n",
        "    accuracy = knn.evaluate(X_test, y_test)\n",
        "    accuracies.append(accuracy)\n",
        "fig, ax = plt.subplots()\n",
        "ax.plot(ks, accuracies)\n",
        "ax.set(xlabel=\"k\",\n",
        "       ylabel=\"Accuracy\",\n",
        "       title=\"Performance of knn\")\n",
        "plt.show()"
      ]
    },
    {
      "cell_type": "code",
      "execution_count": null,
      "metadata": {
        "id": "z4Q2rBGxE6TT"
      },
      "outputs": [],
      "source": [
        "# class KNearestNeighbor(object):\n",
        "#     \"\"\" a kNN classifier with L2 distance \"\"\"\n",
        "\n",
        "#     def __init__(self):\n",
        "#         pass\n",
        "\n",
        "#     def predict_label(self, dists, k=1):\n",
        "#         num_test = dists.shape[0]\n",
        "#         y_pred = np.zeros(num_test)\n",
        "#         for i in range(num_test):\n",
        "#             closest_y = []\n",
        "#             closest_y = self.y_train[np.argsort(dists[i])][0:k]\n",
        "#             y_pred[i] = np.bincount(closest_y).argmax()\n",
        "#         return y_pred\n",
        "\n",
        "#     def train(self, X, y):\n",
        "#         \"\"\"\n",
        "#         Train the classifier. For k-nearest neighbors this is just\n",
        "#         memorizing the training data.\n",
        "\n",
        "#         Inputs:\n",
        "#         - X: A numpy array of shape (num_train, D) containing the training data\n",
        "#           consisting of num_train samples each of dimension D.\n",
        "#         - y: A numpy array of shape (N,) containing the training labels, where\n",
        "#              y[i] is the label for X[i].\n",
        "#         \"\"\"\n",
        "#         self.x_tr = X\n",
        "#         self.y_tr = y\n",
        "\n",
        "#     def predict(self, X, k=1):\n",
        "#         \"\"\"\n",
        "#         Predict labels for test data using this classifier.\n",
        "\n",
        "#         Inputs:\n",
        "#         - X: A numpy array of shape (num_test, D) containing test data consisting\n",
        "#              of num_test samples each of dimension D.\n",
        "#         - k: The number of nearest neighbors that vote for the predicted labels.\n",
        "#         - num_loops: Determines which implementation to use to compute distances\n",
        "#           between training points and testing points.\n",
        "\n",
        "#         Returns:\n",
        "#         - y: A numpy array of shape (num_test,) containing predicted labels for the\n",
        "#           test data, where y[i] is the predicted label for the test point X[i].\n",
        "#         \"\"\"\n",
        "#         dists = self.compute_distances_no_loops(X)\n",
        "\n",
        "#         return self.predict_labels(dists, k=k)\n",
        "\n",
        "#     def compute_distances_no_loops(self, X):\n",
        "#         \"\"\"\n",
        "#         Compute the distance between each test point in X and each training point\n",
        "#         in self.x_tr using no explicit loops.\n",
        "\n",
        "#         Input / Output: Same as compute_distances_two_loops\n",
        "#         \"\"\"\n",
        "#         num_test = X.shape[0]\n",
        "#         num_train = self.x_tr.shape[0]\n",
        "#         dists = np.zeros((num_test, num_train))\n",
        "#         #########################################################################\n",
        "#         dists = np.sqrt((X ** 2).sum(axis=1, keepdims=1) + (self.x_tr ** 2).sum(axis=1) - 2 * X.dot(self.x_tr.T))\n",
        "\n",
        "#         return dists\n",
        "\n",
        "#     def predict_labels(self, dists, k=1):\n",
        "#         \"\"\"\n",
        "#         Given a matrix of distances between test points and training points,\n",
        "#         predict a label for each test point.\n",
        "\n",
        "#         Inputs:\n",
        "#         - dists: A numpy array of shape (num_test, num_train) where dists[i, j]\n",
        "#           gives the distance betwen the ith test point and the jth training point.\n",
        "\n",
        "#         Returns:\n",
        "#         - y: A numpy array of shape (num_test,) containing predicted labels for the\n",
        "#           test data, where y[i] is the predicted label for the test point X[i].\n",
        "#         \"\"\"\n",
        "#         num_test = dists.shape[0]\n",
        "#         y_pred = np.zeros(num_test)\n",
        "#         for i in range(num_test):\n",
        "#             # A list of length k storing the labels of the k nearest neighbors to\n",
        "#             # the ith test point.\n",
        "#             closest_y = []\n",
        "#             closest_y = self.y_tr[np.argsort(dists[i])][0:k]\n",
        "#             closest_y = closest_y.astype(int)\n",
        "#             y_pred[i] = np.bincount(closest_y).argmax()\n",
        "#         return y_pred"
      ]
    },
    {
      "cell_type": "code",
      "execution_count": null,
      "metadata": {
        "id": "XvR4BF_KGDEm"
      },
      "outputs": [],
      "source": [
        "# dists = classifier.compute_distances_no_loops(X_val)\n",
        "# y_val_pred = classifier.predict_labels(dists, k=1)\n",
        "# # num_correct = np.sum(y_val_pred == y_val)\n",
        "# accuracy = float(num_correct) / num_val\n",
        "# print('Got %d / %d correct => accuracy: %f' % (num_correct, num_val, accuracy))"
      ]
    },
    {
      "cell_type": "markdown",
      "source": [
        "## Multiclassification with knn"
      ],
      "metadata": {
        "id": "2hOjOA7nKZRz"
      }
    },
    {
      "cell_type": "code",
      "source": [
        "from sklearn.metrics import accuracy_score,confusion_matrix\n",
        "from sklearn.multiclass import OneVsRestClassifier"
      ],
      "metadata": {
        "id": "AGXWIuKRKWD_"
      },
      "execution_count": null,
      "outputs": []
    },
    {
      "cell_type": "markdown",
      "source": [
        "Splitting training dataset and training with 75% of dataset"
      ],
      "metadata": {
        "id": "kVG_XzLyUHVc"
      }
    },
    {
      "cell_type": "code",
      "source": [
        "X_train2, X_test2, y_train2, y_test2 = train_test_split(x_data, y_data, test_size=0.25, random_state=0)\n",
        "ns, nx, ny, nz = X_train2.shape\n",
        "X_train2 = X_train2.reshape(ns,nx*ny*nz)\n",
        "nst2, nxt2, nyt2, nzt2 = X_test2.shape\n",
        "X_test2 = X_test2.reshape(nst2,nxt2*nyt2*nzt2)"
      ],
      "metadata": {
        "id": "tm3lgxe2NuZb"
      },
      "execution_count": null,
      "outputs": []
    },
    {
      "cell_type": "code",
      "source": [
        "knn = OneVsRestClassifier(KNeighborsClassifier())"
      ],
      "metadata": {
        "id": "84VblpCROupU"
      },
      "execution_count": null,
      "outputs": []
    },
    {
      "cell_type": "code",
      "source": [
        "knn.fit(X_train2,y_train2)"
      ],
      "metadata": {
        "colab": {
          "base_uri": "https://localhost:8080/",
          "height": 117
        },
        "id": "NG2F4KboO4nR",
        "outputId": "c546c541-48cb-4629-d38f-3f963b7bd17f"
      },
      "execution_count": null,
      "outputs": [
        {
          "output_type": "execute_result",
          "data": {
            "text/plain": [
              "OneVsRestClassifier(estimator=KNeighborsClassifier())"
            ],
            "text/html": [
              "<style>#sk-container-id-4 {color: black;background-color: white;}#sk-container-id-4 pre{padding: 0;}#sk-container-id-4 div.sk-toggleable {background-color: white;}#sk-container-id-4 label.sk-toggleable__label {cursor: pointer;display: block;width: 100%;margin-bottom: 0;padding: 0.3em;box-sizing: border-box;text-align: center;}#sk-container-id-4 label.sk-toggleable__label-arrow:before {content: \"▸\";float: left;margin-right: 0.25em;color: #696969;}#sk-container-id-4 label.sk-toggleable__label-arrow:hover:before {color: black;}#sk-container-id-4 div.sk-estimator:hover label.sk-toggleable__label-arrow:before {color: black;}#sk-container-id-4 div.sk-toggleable__content {max-height: 0;max-width: 0;overflow: hidden;text-align: left;background-color: #f0f8ff;}#sk-container-id-4 div.sk-toggleable__content pre {margin: 0.2em;color: black;border-radius: 0.25em;background-color: #f0f8ff;}#sk-container-id-4 input.sk-toggleable__control:checked~div.sk-toggleable__content {max-height: 200px;max-width: 100%;overflow: auto;}#sk-container-id-4 input.sk-toggleable__control:checked~label.sk-toggleable__label-arrow:before {content: \"▾\";}#sk-container-id-4 div.sk-estimator input.sk-toggleable__control:checked~label.sk-toggleable__label {background-color: #d4ebff;}#sk-container-id-4 div.sk-label input.sk-toggleable__control:checked~label.sk-toggleable__label {background-color: #d4ebff;}#sk-container-id-4 input.sk-hidden--visually {border: 0;clip: rect(1px 1px 1px 1px);clip: rect(1px, 1px, 1px, 1px);height: 1px;margin: -1px;overflow: hidden;padding: 0;position: absolute;width: 1px;}#sk-container-id-4 div.sk-estimator {font-family: monospace;background-color: #f0f8ff;border: 1px dotted black;border-radius: 0.25em;box-sizing: border-box;margin-bottom: 0.5em;}#sk-container-id-4 div.sk-estimator:hover {background-color: #d4ebff;}#sk-container-id-4 div.sk-parallel-item::after {content: \"\";width: 100%;border-bottom: 1px solid gray;flex-grow: 1;}#sk-container-id-4 div.sk-label:hover label.sk-toggleable__label {background-color: #d4ebff;}#sk-container-id-4 div.sk-serial::before {content: \"\";position: absolute;border-left: 1px solid gray;box-sizing: border-box;top: 0;bottom: 0;left: 50%;z-index: 0;}#sk-container-id-4 div.sk-serial {display: flex;flex-direction: column;align-items: center;background-color: white;padding-right: 0.2em;padding-left: 0.2em;position: relative;}#sk-container-id-4 div.sk-item {position: relative;z-index: 1;}#sk-container-id-4 div.sk-parallel {display: flex;align-items: stretch;justify-content: center;background-color: white;position: relative;}#sk-container-id-4 div.sk-item::before, #sk-container-id-4 div.sk-parallel-item::before {content: \"\";position: absolute;border-left: 1px solid gray;box-sizing: border-box;top: 0;bottom: 0;left: 50%;z-index: -1;}#sk-container-id-4 div.sk-parallel-item {display: flex;flex-direction: column;z-index: 1;position: relative;background-color: white;}#sk-container-id-4 div.sk-parallel-item:first-child::after {align-self: flex-end;width: 50%;}#sk-container-id-4 div.sk-parallel-item:last-child::after {align-self: flex-start;width: 50%;}#sk-container-id-4 div.sk-parallel-item:only-child::after {width: 0;}#sk-container-id-4 div.sk-dashed-wrapped {border: 1px dashed gray;margin: 0 0.4em 0.5em 0.4em;box-sizing: border-box;padding-bottom: 0.4em;background-color: white;}#sk-container-id-4 div.sk-label label {font-family: monospace;font-weight: bold;display: inline-block;line-height: 1.2em;}#sk-container-id-4 div.sk-label-container {text-align: center;}#sk-container-id-4 div.sk-container {/* jupyter's `normalize.less` sets `[hidden] { display: none; }` but bootstrap.min.css set `[hidden] { display: none !important; }` so we also need the `!important` here to be able to override the default hidden behavior on the sphinx rendered scikit-learn.org. See: https://github.com/scikit-learn/scikit-learn/issues/21755 */display: inline-block !important;position: relative;}#sk-container-id-4 div.sk-text-repr-fallback {display: none;}</style><div id=\"sk-container-id-4\" class=\"sk-top-container\"><div class=\"sk-text-repr-fallback\"><pre>OneVsRestClassifier(estimator=KNeighborsClassifier())</pre><b>In a Jupyter environment, please rerun this cell to show the HTML representation or trust the notebook. <br />On GitHub, the HTML representation is unable to render, please try loading this page with nbviewer.org.</b></div><div class=\"sk-container\" hidden><div class=\"sk-item sk-dashed-wrapped\"><div class=\"sk-label-container\"><div class=\"sk-label sk-toggleable\"><input class=\"sk-toggleable__control sk-hidden--visually\" id=\"sk-estimator-id-8\" type=\"checkbox\" ><label for=\"sk-estimator-id-8\" class=\"sk-toggleable__label sk-toggleable__label-arrow\">OneVsRestClassifier</label><div class=\"sk-toggleable__content\"><pre>OneVsRestClassifier(estimator=KNeighborsClassifier())</pre></div></div></div><div class=\"sk-parallel\"><div class=\"sk-parallel-item\"><div class=\"sk-item\"><div class=\"sk-label-container\"><div class=\"sk-label sk-toggleable\"><input class=\"sk-toggleable__control sk-hidden--visually\" id=\"sk-estimator-id-9\" type=\"checkbox\" ><label for=\"sk-estimator-id-9\" class=\"sk-toggleable__label sk-toggleable__label-arrow\">estimator: KNeighborsClassifier</label><div class=\"sk-toggleable__content\"><pre>KNeighborsClassifier()</pre></div></div></div><div class=\"sk-serial\"><div class=\"sk-item\"><div class=\"sk-estimator sk-toggleable\"><input class=\"sk-toggleable__control sk-hidden--visually\" id=\"sk-estimator-id-10\" type=\"checkbox\" ><label for=\"sk-estimator-id-10\" class=\"sk-toggleable__label sk-toggleable__label-arrow\">KNeighborsClassifier</label><div class=\"sk-toggleable__content\"><pre>KNeighborsClassifier()</pre></div></div></div></div></div></div></div></div></div></div>"
            ]
          },
          "metadata": {},
          "execution_count": 63
        }
      ]
    },
    {
      "cell_type": "code",
      "source": [
        "knn.predict(X_test2[0].reshape(1,-1))"
      ],
      "metadata": {
        "colab": {
          "base_uri": "https://localhost:8080/"
        },
        "id": "ioI4XSBKTrdk",
        "outputId": "4e31410e-08bc-41fa-989d-e1846b20c6a1"
      },
      "execution_count": null,
      "outputs": [
        {
          "output_type": "execute_result",
          "data": {
            "text/plain": [
              "array([6])"
            ]
          },
          "metadata": {},
          "execution_count": 71
        }
      ]
    },
    {
      "cell_type": "code",
      "source": [
        "y_test2[0]"
      ],
      "metadata": {
        "colab": {
          "base_uri": "https://localhost:8080/"
        },
        "id": "exssokgfTw7F",
        "outputId": "593987cd-5c17-452b-f77f-06475515232f"
      },
      "execution_count": null,
      "outputs": [
        {
          "output_type": "execute_result",
          "data": {
            "text/plain": [
              "array([5])"
            ]
          },
          "metadata": {},
          "execution_count": 72
        }
      ]
    },
    {
      "cell_type": "code",
      "source": [
        "knn.predict(X_test2[:10].reshape(10,-1))"
      ],
      "metadata": {
        "colab": {
          "base_uri": "https://localhost:8080/"
        },
        "id": "FxaPnfDJT04h",
        "outputId": "f0679348-7360-4865-e464-9112f2df656f"
      },
      "execution_count": null,
      "outputs": [
        {
          "output_type": "execute_result",
          "data": {
            "text/plain": [
              "array([6, 4, 2, 2, 6, 1, 1, 6, 3, 1])"
            ]
          },
          "metadata": {},
          "execution_count": 73
        }
      ]
    },
    {
      "cell_type": "code",
      "source": [
        "y_test2[:10].reshape(1,10)"
      ],
      "metadata": {
        "colab": {
          "base_uri": "https://localhost:8080/"
        },
        "id": "zX_8-7YtT7wV",
        "outputId": "9f6991a1-b990-4e76-e65d-3624d9a3d5c1"
      },
      "execution_count": null,
      "outputs": [
        {
          "output_type": "execute_result",
          "data": {
            "text/plain": [
              "array([[5, 6, 2, 5, 0, 1, 1, 0, 4, 1]])"
            ]
          },
          "metadata": {},
          "execution_count": 76
        }
      ]
    },
    {
      "cell_type": "code",
      "source": [
        "knn.predict(x_test[0].reshape(1,-1))"
      ],
      "metadata": {
        "colab": {
          "base_uri": "https://localhost:8080/"
        },
        "id": "G8HkGDnpPWGE",
        "outputId": "509e1c40-b5c9-4905-bb64-71a7c8bf008f"
      },
      "execution_count": null,
      "outputs": [
        {
          "output_type": "execute_result",
          "data": {
            "text/plain": [
              "array([6])"
            ]
          },
          "metadata": {},
          "execution_count": 64
        }
      ]
    },
    {
      "cell_type": "code",
      "source": [
        "Y_test[0]"
      ],
      "metadata": {
        "colab": {
          "base_uri": "https://localhost:8080/"
        },
        "id": "a7OY3qafTdJJ",
        "outputId": "5d06bb93-cce0-4622-b938-a634808ab10f"
      },
      "execution_count": null,
      "outputs": [
        {
          "output_type": "execute_result",
          "data": {
            "text/plain": [
              "array([0])"
            ]
          },
          "metadata": {},
          "execution_count": 70
        }
      ]
    },
    {
      "cell_type": "code",
      "source": [
        "knn.predict(x_test[:10].reshape(10,-1))"
      ],
      "metadata": {
        "colab": {
          "base_uri": "https://localhost:8080/"
        },
        "id": "5GdxR5I4P0Du",
        "outputId": "fc0256f6-0374-4c75-f186-12c13ae3f357"
      },
      "execution_count": null,
      "outputs": [
        {
          "output_type": "execute_result",
          "data": {
            "text/plain": [
              "array([6, 1, 0, 4, 4, 6, 6, 6, 5, 6])"
            ]
          },
          "metadata": {},
          "execution_count": 65
        }
      ]
    },
    {
      "cell_type": "code",
      "source": [
        "Y_test[:10].reshape(1,10)"
      ],
      "metadata": {
        "colab": {
          "base_uri": "https://localhost:8080/"
        },
        "id": "_oXM7m-PTLTR",
        "outputId": "31a999c8-4a07-47ad-a86c-8878064d7a8e"
      },
      "execution_count": null,
      "outputs": [
        {
          "output_type": "execute_result",
          "data": {
            "text/plain": [
              "array([[0, 1, 4, 6, 3, 3, 2, 0, 2, 0]])"
            ]
          },
          "metadata": {},
          "execution_count": 78
        }
      ]
    },
    {
      "cell_type": "markdown",
      "source": [
        "### Prediction for training dataset test set"
      ],
      "metadata": {
        "id": "TdVuI15bfbpx"
      }
    },
    {
      "cell_type": "code",
      "source": [
        "predictions_test = knn.predict(x_test)"
      ],
      "metadata": {
        "id": "e73NXPT_Uj11"
      },
      "execution_count": null,
      "outputs": []
    },
    {
      "cell_type": "code",
      "source": [
        "%time\n",
        "print('KNN Accuracy: %.3f' % accuracy_score(Y_test,predictions_test))"
      ],
      "metadata": {
        "colab": {
          "base_uri": "https://localhost:8080/"
        },
        "id": "r0GrxP86Ut_U",
        "outputId": "f0e0808b-d526-4b10-dce7-74c27e1416c5"
      },
      "execution_count": null,
      "outputs": [
        {
          "output_type": "stream",
          "name": "stdout",
          "text": [
            "CPU times: user 2 µs, sys: 0 ns, total: 2 µs\n",
            "Wall time: 6.2 µs\n",
            "KNN Accuracy: 0.360\n"
          ]
        }
      ]
    },
    {
      "cell_type": "code",
      "source": [
        "conf = confusion_matrix(Y_test,predictions_test)\n",
        "plt.figure(figsize=(9,9))\n",
        "sns.heatmap(conf,annot=True, fmt='.3f', linewidths=.5)\n",
        "plt.ylabel('Actual label')\n",
        "plt.xlabel('Predicted label')\n",
        "all_sample_title = 'Accuracy Score: {0}'.format(accuracy_score(Y_test,predictions_test))\n",
        "plt.title(all_sample_title,size=15)"
      ],
      "metadata": {
        "colab": {
          "base_uri": "https://localhost:8080/",
          "height": 815
        },
        "id": "za6pObHqUt4a",
        "outputId": "02be4ba3-7d81-4e74-b381-2646584d7b51"
      },
      "execution_count": null,
      "outputs": [
        {
          "output_type": "execute_result",
          "data": {
            "text/plain": [
              "Text(0.5, 1.0, 'Accuracy Score: 0.3600957701516361')"
            ]
          },
          "metadata": {},
          "execution_count": 98
        },
        {
          "output_type": "display_data",
          "data": {
            "text/plain": [
              "<Figure size 900x900 with 2 Axes>"
            ],
            "image/png": "[encoded data removed]"
          },
          "metadata": {}
        }
      ]
    },
    {
      "cell_type": "markdown",
      "source": [
        "### Same procedure for heatmap with training dataset split"
      ],
      "metadata": {
        "id": "uawFuGwAWAhH"
      }
    },
    {
      "cell_type": "code",
      "source": [
        "predictions = knn.predict(X_test2)"
      ],
      "metadata": {
        "id": "VjYNHCuOWEwe"
      },
      "execution_count": null,
      "outputs": []
    },
    {
      "cell_type": "code",
      "source": [
        "%time\n",
        "print('KNN Accuracy: %.3f' % accuracy_score(y_test2,predictions))"
      ],
      "metadata": {
        "colab": {
          "base_uri": "https://localhost:8080/"
        },
        "id": "Jbd2RcjLWG_7",
        "outputId": "75a433fd-2cda-4cbb-e3e2-e69b658b0ddb"
      },
      "execution_count": null,
      "outputs": [
        {
          "output_type": "stream",
          "name": "stdout",
          "text": [
            "CPU times: user 4 µs, sys: 0 ns, total: 4 µs\n",
            "Wall time: 8.11 µs\n",
            "KNN Accuracy: 0.511\n"
          ]
        }
      ]
    },
    {
      "cell_type": "code",
      "source": [
        "cm = confusion_matrix(y_test,predictions)\n",
        "plt.figure(figsize=(9,9))\n",
        "sns.heatmap(cm,annot=True, fmt='.3f')\n",
        "plt.ylabel('Actual label')\n",
        "plt.xlabel('Predicted label')\n",
        "all_sample_title = 'Accuracy Score: {0}'.format(accuracy_score(y_test,predictions))\n",
        "plt.title(all_sample_title,size=15)"
      ],
      "metadata": {
        "colab": {
          "base_uri": "https://localhost:8080/",
          "height": 815
        },
        "id": "1jQ1kP0VXMjv",
        "outputId": "61389c9e-6cce-411e-bdc5-320e927fbe65"
      },
      "execution_count": null,
      "outputs": [
        {
          "output_type": "execute_result",
          "data": {
            "text/plain": [
              "Text(0.5, 1.0, 'Accuracy Score: 0.5106517779361686')"
            ]
          },
          "metadata": {},
          "execution_count": 101
        },
        {
          "output_type": "display_data",
          "data": {
            "text/plain": [
              "<Figure size 900x900 with 2 Axes>"
            ],
            "image/png": "[encoded data removed]"
          },
          "metadata": {}
        }
      ]
    },
    {
      "cell_type": "markdown",
      "metadata": {
        "id": "TtIVagggbJuw"
      },
      "source": [
        "# ALGO 4"
      ]
    },
    {
      "cell_type": "code",
      "execution_count": null,
      "metadata": {
        "id": "qb8FXRlFbbmf"
      },
      "outputs": [],
      "source": []
    },
    {
      "cell_type": "markdown",
      "metadata": {
        "id": "waQDL8j9bMVC"
      },
      "source": [
        "# ALGO 5"
      ]
    },
    {
      "cell_type": "code",
      "execution_count": null,
      "metadata": {
        "id": "IycqO7XobcUs"
      },
      "outputs": [],
      "source": [
        "from sklearn.cluster import MiniBatchKMeans"
      ]
    },
    {
      "cell_type": "code",
      "source": [
        "total_clusters = len(np.unique(Y_test))\n",
        "# Initialize the K-Means model\n",
        "kmeans = MiniBatchKMeans(n_clusters = total_clusters)\n",
        "# Fitting the model to training set\n",
        "kmeans.fit(X_train2)"
      ],
      "metadata": {
        "colab": {
          "base_uri": "https://localhost:8080/",
          "height": 131
        },
        "id": "esm7YXAPBrsM",
        "outputId": "1cb446c4-9336-4c2d-930d-666282f08f16"
      },
      "execution_count": null,
      "outputs": [
        {
          "output_type": "stream",
          "name": "stderr",
          "text": [
            "/usr/local/lib/python3.10/dist-packages/sklearn/cluster/_kmeans.py:870: FutureWarning: The default value of `n_init` will change from 3 to 'auto' in 1.4. Set the value of `n_init` explicitly to suppress the warning\n",
            "  warnings.warn(\n"
          ]
        },
        {
          "output_type": "execute_result",
          "data": {
            "text/plain": [
              "MiniBatchKMeans(n_clusters=7)"
            ],
            "text/html": [
              "<style>#sk-container-id-1 {color: black;background-color: white;}#sk-container-id-1 pre{padding: 0;}#sk-container-id-1 div.sk-toggleable {background-color: white;}#sk-container-id-1 label.sk-toggleable__label {cursor: pointer;display: block;width: 100%;margin-bottom: 0;padding: 0.3em;box-sizing: border-box;text-align: center;}#sk-container-id-1 label.sk-toggleable__label-arrow:before {content: \"▸\";float: left;margin-right: 0.25em;color: #696969;}#sk-container-id-1 label.sk-toggleable__label-arrow:hover:before {color: black;}#sk-container-id-1 div.sk-estimator:hover label.sk-toggleable__label-arrow:before {color: black;}#sk-container-id-1 div.sk-toggleable__content {max-height: 0;max-width: 0;overflow: hidden;text-align: left;background-color: #f0f8ff;}#sk-container-id-1 div.sk-toggleable__content pre {margin: 0.2em;color: black;border-radius: 0.25em;background-color: #f0f8ff;}#sk-container-id-1 input.sk-toggleable__control:checked~div.sk-toggleable__content {max-height: 200px;max-width: 100%;overflow: auto;}#sk-container-id-1 input.sk-toggleable__control:checked~label.sk-toggleable__label-arrow:before {content: \"▾\";}#sk-container-id-1 div.sk-estimator input.sk-toggleable__control:checked~label.sk-toggleable__label {background-color: #d4ebff;}#sk-container-id-1 div.sk-label input.sk-toggleable__control:checked~label.sk-toggleable__label {background-color: #d4ebff;}#sk-container-id-1 input.sk-hidden--visually {border: 0;clip: rect(1px 1px 1px 1px);clip: rect(1px, 1px, 1px, 1px);height: 1px;margin: -1px;overflow: hidden;padding: 0;position: absolute;width: 1px;}#sk-container-id-1 div.sk-estimator {font-family: monospace;background-color: #f0f8ff;border: 1px dotted black;border-radius: 0.25em;box-sizing: border-box;margin-bottom: 0.5em;}#sk-container-id-1 div.sk-estimator:hover {background-color: #d4ebff;}#sk-container-id-1 div.sk-parallel-item::after {content: \"\";width: 100%;border-bottom: 1px solid gray;flex-grow: 1;}#sk-container-id-1 div.sk-label:hover label.sk-toggleable__label {background-color: #d4ebff;}#sk-container-id-1 div.sk-serial::before {content: \"\";position: absolute;border-left: 1px solid gray;box-sizing: border-box;top: 0;bottom: 0;left: 50%;z-index: 0;}#sk-container-id-1 div.sk-serial {display: flex;flex-direction: column;align-items: center;background-color: white;padding-right: 0.2em;padding-left: 0.2em;position: relative;}#sk-container-id-1 div.sk-item {position: relative;z-index: 1;}#sk-container-id-1 div.sk-parallel {display: flex;align-items: stretch;justify-content: center;background-color: white;position: relative;}#sk-container-id-1 div.sk-item::before, #sk-container-id-1 div.sk-parallel-item::before {content: \"\";position: absolute;border-left: 1px solid gray;box-sizing: border-box;top: 0;bottom: 0;left: 50%;z-index: -1;}#sk-container-id-1 div.sk-parallel-item {display: flex;flex-direction: column;z-index: 1;position: relative;background-color: white;}#sk-container-id-1 div.sk-parallel-item:first-child::after {align-self: flex-end;width: 50%;}#sk-container-id-1 div.sk-parallel-item:last-child::after {align-self: flex-start;width: 50%;}#sk-container-id-1 div.sk-parallel-item:only-child::after {width: 0;}#sk-container-id-1 div.sk-dashed-wrapped {border: 1px dashed gray;margin: 0 0.4em 0.5em 0.4em;box-sizing: border-box;padding-bottom: 0.4em;background-color: white;}#sk-container-id-1 div.sk-label label {font-family: monospace;font-weight: bold;display: inline-block;line-height: 1.2em;}#sk-container-id-1 div.sk-label-container {text-align: center;}#sk-container-id-1 div.sk-container {/* jupyter's `normalize.less` sets `[hidden] { display: none; }` but bootstrap.min.css set `[hidden] { display: none !important; }` so we also need the `!important` here to be able to override the default hidden behavior on the sphinx rendered scikit-learn.org. See: https://github.com/scikit-learn/scikit-learn/issues/21755 */display: inline-block !important;position: relative;}#sk-container-id-1 div.sk-text-repr-fallback {display: none;}</style><div id=\"sk-container-id-1\" class=\"sk-top-container\"><div class=\"sk-text-repr-fallback\"><pre>MiniBatchKMeans(n_clusters=7)</pre><b>In a Jupyter environment, please rerun this cell to show the HTML representation or trust the notebook. <br />On GitHub, the HTML representation is unable to render, please try loading this page with nbviewer.org.</b></div><div class=\"sk-container\" hidden><div class=\"sk-item\"><div class=\"sk-estimator sk-toggleable\"><input class=\"sk-toggleable__control sk-hidden--visually\" id=\"sk-estimator-id-1\" type=\"checkbox\" checked><label for=\"sk-estimator-id-1\" class=\"sk-toggleable__label sk-toggleable__label-arrow\">MiniBatchKMeans</label><div class=\"sk-toggleable__content\"><pre>MiniBatchKMeans(n_clusters=7)</pre></div></div></div></div></div>"
            ]
          },
          "metadata": {},
          "execution_count": 22
        }
      ]
    },
    {
      "cell_type": "code",
      "source": [
        "kmeans.labels_"
      ],
      "metadata": {
        "colab": {
          "base_uri": "https://localhost:8080/"
        },
        "id": "53GjKLNiCZri",
        "outputId": "bc6321ce-eedd-4c7f-84eb-7c595be9bb08"
      },
      "execution_count": null,
      "outputs": [
        {
          "output_type": "execute_result",
          "data": {
            "text/plain": [
              "array([5, 1, 1, ..., 4, 1, 0], dtype=int32)"
            ]
          },
          "metadata": {},
          "execution_count": 23
        }
      ]
    },
    {
      "cell_type": "code",
      "source": [
        "len(kmeans.labels_)"
      ],
      "metadata": {
        "colab": {
          "base_uri": "https://localhost:8080/"
        },
        "id": "WP4nCQ1LDSQk",
        "outputId": "fa10c9af-eec3-4bde-a360-668a1ac92810"
      },
      "execution_count": null,
      "outputs": [
        {
          "output_type": "execute_result",
          "data": {
            "text/plain": [
              "37878"
            ]
          },
          "metadata": {},
          "execution_count": 26
        }
      ]
    },
    {
      "cell_type": "code",
      "source": [
        "len(X_train2)"
      ],
      "metadata": {
        "colab": {
          "base_uri": "https://localhost:8080/"
        },
        "id": "q8ur8mGKDVWJ",
        "outputId": "af9ea372-01ec-455d-f5b7-743664ee84bd"
      },
      "execution_count": null,
      "outputs": [
        {
          "output_type": "execute_result",
          "data": {
            "text/plain": [
              "37878"
            ]
          },
          "metadata": {},
          "execution_count": 27
        }
      ]
    },
    {
      "cell_type": "code",
      "source": [
        "len(y_train2)"
      ],
      "metadata": {
        "colab": {
          "base_uri": "https://localhost:8080/"
        },
        "id": "BdO-pmwuDbmL",
        "outputId": "33faa731-a607-49e7-cc8f-f10b55ae04aa"
      },
      "execution_count": null,
      "outputs": [
        {
          "output_type": "execute_result",
          "data": {
            "text/plain": [
              "37878"
            ]
          },
          "metadata": {},
          "execution_count": 28
        }
      ]
    },
    {
      "cell_type": "code",
      "source": [
        "def retrieve_info(cluster_labels,y_train):\n",
        "    '''\n",
        "    Associates most probable label with each cluster in KMeans model\n",
        "    returns: dictionary of clusters assigned to each label\n",
        "    '''\n",
        "    # Initializing\n",
        "    reference_labels = {}\n",
        "    # For loop to run through each label of cluster label\n",
        "    for i in range(len(np.unique(kmeans.labels_))):\n",
        "        index = np.where(cluster_labels == i,1,0)\n",
        "        if y_train.size:\n",
        "          num = np.bincount(y_train[index==1]).argmax()\n",
        "          reference_labels[i] = num\n",
        "    return reference_labels"
      ],
      "metadata": {
        "id": "2foJv23dChQ7"
      },
      "execution_count": null,
      "outputs": []
    },
    {
      "cell_type": "code",
      "source": [
        "ref_labels = retrieve_info(kmeans.labels_,y_train2.flatten('C'))\n",
        "number_labels = np.random.rand(len(kmeans.labels_))\n",
        "for i in range(len(kmeans.labels_)):\n",
        "    number_labels[i] = ref_labels[kmeans.labels_[i]]"
      ],
      "metadata": {
        "id": "pGOL10K9C0-w"
      },
      "execution_count": null,
      "outputs": []
    },
    {
      "cell_type": "code",
      "source": [
        "number_labels[:20].astype(int)"
      ],
      "metadata": {
        "colab": {
          "base_uri": "https://localhost:8080/"
        },
        "id": "zcG7TsyHEVpv",
        "outputId": "daea9d55-e970-465d-a873-ae815bd321d8"
      },
      "execution_count": null,
      "outputs": [
        {
          "output_type": "execute_result",
          "data": {
            "text/plain": [
              "array([6, 5, 5, 2, 2, 4, 2, 2, 3, 5, 4, 2, 6, 4, 5, 3, 6, 4, 4, 5])"
            ]
          },
          "metadata": {},
          "execution_count": 37
        }
      ]
    },
    {
      "cell_type": "code",
      "source": [
        "y_train2[1:20].reshape(1,19)"
      ],
      "metadata": {
        "colab": {
          "base_uri": "https://localhost:8080/"
        },
        "id": "aoH9bbIXEggN",
        "outputId": "14f6ca6a-583e-4460-cc2e-b42f0cecb14e"
      },
      "execution_count": null,
      "outputs": [
        {
          "output_type": "execute_result",
          "data": {
            "text/plain": [
              "array([[6, 3, 5, 6, 3, 5, 4, 0, 2, 5, 5, 5, 0, 6, 4, 6, 4, 0, 2]])"
            ]
          },
          "metadata": {},
          "execution_count": 47
        }
      ]
    },
    {
      "cell_type": "code",
      "source": [
        "print(accuracy_score(number_labels,y_train2))"
      ],
      "metadata": {
        "colab": {
          "base_uri": "https://localhost:8080/"
        },
        "id": "zWDEXacaFHGC",
        "outputId": "33fb56f2-c269-4afe-fb2e-2a9f5d11ec18"
      },
      "execution_count": null,
      "outputs": [
        {
          "output_type": "stream",
          "name": "stdout",
          "text": [
            "0.19578647235862506\n"
          ]
        }
      ]
    },
    {
      "cell_type": "code",
      "source": [
        "from sklearn.metrics import homogeneity_score\n",
        "import warnings\n",
        "warnings.filterwarnings('ignore')"
      ],
      "metadata": {
        "id": "zDX40WC8Fo6t"
      },
      "execution_count": null,
      "outputs": []
    },
    {
      "cell_type": "markdown",
      "source": [
        "We optimize k-means using 3 performance metrics: Accuracy, Inertia and Homogeneity score<br>**Accuracy** score is the percentage of correctly predicted values.<br>**Inertia** is a measure of how internally coherent clusters are. It is inversely proportional to sum of squares of distances between data points and their respective cluster’s centroid. Higher the number of clusters, lower is the inertia score.<br>**Homogeneity** score is a measure of data points of a particular cluster belonging to a single class."
      ],
      "metadata": {
        "id": "SJryvf66JuSp"
      }
    },
    {
      "cell_type": "code",
      "source": [
        "def calculate_metrics(model,output):\n",
        "  print('Number of clusters is {}'.format(model.n_clusters))\n",
        "  print('Inertia : {}'.format(model.inertia_))\n",
        "  print('Homogeneity : {}'.format(homogeneity_score(output,model.labels_)))"
      ],
      "metadata": {
        "id": "X-a3PAblFTqg"
      },
      "execution_count": null,
      "outputs": []
    },
    {
      "cell_type": "code",
      "source": [
        "cluster_number = [4,8,10,13,20,36,48,64,144,256]\n",
        "for i in cluster_number:\n",
        "    total_clusters = len(np.unique(y_test2))\n",
        "\n",
        "    kmeans = MiniBatchKMeans(n_clusters = i)\n",
        "\n",
        "    kmeans.fit(X_train2)\n",
        "    \n",
        "    calculate_metrics(kmeans,y_train2.flatten('C'))\n",
        "\n",
        "    reference_labels = retrieve_info(kmeans.labels_,y_train2.flatten('C'))\n",
        "\n",
        "    number_labels = np.random.rand(len(kmeans.labels_))\n",
        "    for i in range(len(kmeans.labels_)):\n",
        "        number_labels[i] = reference_labels[kmeans.labels_[i]]\n",
        " \n",
        "    print('Accuracy score : {}'.format(accuracy_score(number_labels,y_train2)))\n",
        "    print()"
      ],
      "metadata": {
        "colab": {
          "base_uri": "https://localhost:8080/"
        },
        "id": "GsYgUT5oFuy5",
        "outputId": "9ea4ef4b-4e79-49bb-930d-54c0cf1930dc"
      },
      "execution_count": null,
      "outputs": [
        {
          "output_type": "stream",
          "name": "stdout",
          "text": [
            "Number of clusters is 4\n",
            "Inertia : 3877825.5\n",
            "Homogeneity : 0.013550036901865129\n",
            "Accuracy score : 0.1926976081102487\n",
            "\n",
            "Number of clusters is 8\n",
            "Inertia : 3497851.25\n",
            "Homogeneity : 0.017261314230683125\n",
            "Accuracy score : 0.19998415967052113\n",
            "\n",
            "Number of clusters is 10\n",
            "Inertia : 3383480.5\n",
            "Homogeneity : 0.018805556423197114\n",
            "Accuracy score : 0.20038016790749247\n",
            "\n",
            "Number of clusters is 13\n",
            "Inertia : 3282949.0\n",
            "Homogeneity : 0.020441029810177355\n",
            "Accuracy score : 0.20420824753154865\n",
            "\n",
            "Number of clusters is 20\n",
            "Inertia : 3111492.5\n",
            "Homogeneity : 0.023589479873704355\n",
            "Accuracy score : 0.20901314747346744\n",
            "\n",
            "Number of clusters is 36\n",
            "Inertia : 2940026.0\n",
            "Homogeneity : 0.028587897853857003\n",
            "Accuracy score : 0.21796293362901947\n",
            "\n",
            "Number of clusters is 48\n",
            "Inertia : 2864481.5\n",
            "Homogeneity : 0.034793271552809174\n",
            "Accuracy score : 0.22514388299276625\n",
            "\n",
            "Number of clusters is 64\n",
            "Inertia : 2770362.5\n",
            "Homogeneity : 0.03929392416349252\n",
            "Accuracy score : 0.23187602302127885\n",
            "\n",
            "Number of clusters is 144\n",
            "Inertia : 2578718.75\n",
            "Homogeneity : 0.07230330319343464\n",
            "Accuracy score : 0.25993980674798034\n",
            "\n",
            "Number of clusters is 256\n",
            "Inertia : 2432472.0\n",
            "Homogeneity : 0.10995390034127407\n",
            "Accuracy score : 0.29064364538782406\n",
            "\n"
          ]
        }
      ]
    },
    {
      "cell_type": "markdown",
      "source": [
        "Inference: The highest accuracy is returned by no. of clusters taken as 256 at 29%<br>We also notice inertia parameter decreases as no. of clusters reaches best possible. This is because distance (SSD) decreases between pixel data and centroids <br>"
      ],
      "metadata": {
        "id": "WxHnPKvmIDft"
      }
    },
    {
      "cell_type": "markdown",
      "source": [
        "Other inferences: Accuracy scores increases as no. of clusters increase and homogeneity score as clusters become more and more differentiable"
      ],
      "metadata": {
        "id": "5CSoaDaYImBg"
      }
    },
    {
      "cell_type": "code",
      "source": [
        "# Testing model on testing sub-dataset (X_test2 and y_test2) for k=256\n",
        "\n",
        "kmeans = MiniBatchKMeans(n_clusters = 256)\n",
        "\n",
        "kmeans.fit(X_test2)\n",
        "calculate_metrics(kmeans,y_test2.flatten('C'))\n",
        "ref_labels = retrieve_info(kmeans.labels_,y_test2.flatten('C'))\n",
        "# ‘number_labels’ is a list which denotes the number displayed in image\n",
        "number_labels = np.random.rand(len(kmeans.labels_))\n",
        "for i in range(len(kmeans.labels_)):\n",
        "    number_labels[i] = ref_labels[kmeans.labels_[i]]\n",
        " \n",
        "print('Accuracy score : {}'.format(accuracy_score(number_labels,y_test2)))\n",
        "print()"
      ],
      "metadata": {
        "colab": {
          "base_uri": "https://localhost:8080/"
        },
        "id": "R3FWCjaUICll",
        "outputId": "ce800a54-748d-46b0-96c0-b24d492f8e3f"
      },
      "execution_count": null,
      "outputs": [
        {
          "output_type": "stream",
          "name": "stdout",
          "text": [
            "Number of clusters is 256\n",
            "Inertia : 799935.25\n",
            "Homogeneity : 0.125900051754282\n",
            "Accuracy score : 0.3009424249623822\n",
            "\n"
          ]
        }
      ]
    },
    {
      "cell_type": "markdown",
      "source": [
        "## Minibatch K-means for performance analysis"
      ],
      "metadata": {
        "id": "1OZo-MMSTYlY"
      }
    },
    {
      "cell_type": "markdown",
      "source": [
        "Mini-batch k-means uses the idea of taking random smaller samples from our original high-dimensional dataset and applying k-means clustering<br>The clusters are updated with a different portion of the dataset in each iteration"
      ],
      "metadata": {
        "id": "OWbgSrn8Ui0f"
      }
    },
    {
      "cell_type": "code",
      "source": [
        "from sklearn.cluster import MiniBatchKMeans"
      ],
      "metadata": {
        "id": "pc_XHdbuAIUg"
      },
      "execution_count": null,
      "outputs": []
    },
    {
      "cell_type": "code",
      "source": [
        "total_clusters = len(np.unique(Y_test))\n",
        "# Initialize the K-Means model\n",
        "kmeans = MiniBatchKMeans(n_clusters = total_clusters)\n",
        "# Fitting the model to training set\n",
        "kmeans.fit(X_train2)"
      ],
      "metadata": {
        "colab": {
          "base_uri": "https://localhost:8080/",
          "height": 131
        },
        "outputId": "1cb446c4-9336-4c2d-930d-666282f08f16",
        "id": "judyqbmSV8zC"
      },
      "execution_count": null,
      "outputs": [
        {
          "output_type": "stream",
          "name": "stderr",
          "text": [
            "/usr/local/lib/python3.10/dist-packages/sklearn/cluster/_kmeans.py:870: FutureWarning: The default value of `n_init` will change from 3 to 'auto' in 1.4. Set the value of `n_init` explicitly to suppress the warning\n",
            "  warnings.warn(\n"
          ]
        },
        {
          "output_type": "execute_result",
          "data": {
            "text/plain": [
              "MiniBatchKMeans(n_clusters=7)"
            ],
            "text/html": [
              "<style>#sk-container-id-1 {color: black;background-color: white;}#sk-container-id-1 pre{padding: 0;}#sk-container-id-1 div.sk-toggleable {background-color: white;}#sk-container-id-1 label.sk-toggleable__label {cursor: pointer;display: block;width: 100%;margin-bottom: 0;padding: 0.3em;box-sizing: border-box;text-align: center;}#sk-container-id-1 label.sk-toggleable__label-arrow:before {content: \"▸\";float: left;margin-right: 0.25em;color: #696969;}#sk-container-id-1 label.sk-toggleable__label-arrow:hover:before {color: black;}#sk-container-id-1 div.sk-estimator:hover label.sk-toggleable__label-arrow:before {color: black;}#sk-container-id-1 div.sk-toggleable__content {max-height: 0;max-width: 0;overflow: hidden;text-align: left;background-color: #f0f8ff;}#sk-container-id-1 div.sk-toggleable__content pre {margin: 0.2em;color: black;border-radius: 0.25em;background-color: #f0f8ff;}#sk-container-id-1 input.sk-toggleable__control:checked~div.sk-toggleable__content {max-height: 200px;max-width: 100%;overflow: auto;}#sk-container-id-1 input.sk-toggleable__control:checked~label.sk-toggleable__label-arrow:before {content: \"▾\";}#sk-container-id-1 div.sk-estimator input.sk-toggleable__control:checked~label.sk-toggleable__label {background-color: #d4ebff;}#sk-container-id-1 div.sk-label input.sk-toggleable__control:checked~label.sk-toggleable__label {background-color: #d4ebff;}#sk-container-id-1 input.sk-hidden--visually {border: 0;clip: rect(1px 1px 1px 1px);clip: rect(1px, 1px, 1px, 1px);height: 1px;margin: -1px;overflow: hidden;padding: 0;position: absolute;width: 1px;}#sk-container-id-1 div.sk-estimator {font-family: monospace;background-color: #f0f8ff;border: 1px dotted black;border-radius: 0.25em;box-sizing: border-box;margin-bottom: 0.5em;}#sk-container-id-1 div.sk-estimator:hover {background-color: #d4ebff;}#sk-container-id-1 div.sk-parallel-item::after {content: \"\";width: 100%;border-bottom: 1px solid gray;flex-grow: 1;}#sk-container-id-1 div.sk-label:hover label.sk-toggleable__label {background-color: #d4ebff;}#sk-container-id-1 div.sk-serial::before {content: \"\";position: absolute;border-left: 1px solid gray;box-sizing: border-box;top: 0;bottom: 0;left: 50%;z-index: 0;}#sk-container-id-1 div.sk-serial {display: flex;flex-direction: column;align-items: center;background-color: white;padding-right: 0.2em;padding-left: 0.2em;position: relative;}#sk-container-id-1 div.sk-item {position: relative;z-index: 1;}#sk-container-id-1 div.sk-parallel {display: flex;align-items: stretch;justify-content: center;background-color: white;position: relative;}#sk-container-id-1 div.sk-item::before, #sk-container-id-1 div.sk-parallel-item::before {content: \"\";position: absolute;border-left: 1px solid gray;box-sizing: border-box;top: 0;bottom: 0;left: 50%;z-index: -1;}#sk-container-id-1 div.sk-parallel-item {display: flex;flex-direction: column;z-index: 1;position: relative;background-color: white;}#sk-container-id-1 div.sk-parallel-item:first-child::after {align-self: flex-end;width: 50%;}#sk-container-id-1 div.sk-parallel-item:last-child::after {align-self: flex-start;width: 50%;}#sk-container-id-1 div.sk-parallel-item:only-child::after {width: 0;}#sk-container-id-1 div.sk-dashed-wrapped {border: 1px dashed gray;margin: 0 0.4em 0.5em 0.4em;box-sizing: border-box;padding-bottom: 0.4em;background-color: white;}#sk-container-id-1 div.sk-label label {font-family: monospace;font-weight: bold;display: inline-block;line-height: 1.2em;}#sk-container-id-1 div.sk-label-container {text-align: center;}#sk-container-id-1 div.sk-container {/* jupyter's `normalize.less` sets `[hidden] { display: none; }` but bootstrap.min.css set `[hidden] { display: none !important; }` so we also need the `!important` here to be able to override the default hidden behavior on the sphinx rendered scikit-learn.org. See: https://github.com/scikit-learn/scikit-learn/issues/21755 */display: inline-block !important;position: relative;}#sk-container-id-1 div.sk-text-repr-fallback {display: none;}</style><div id=\"sk-container-id-1\" class=\"sk-top-container\"><div class=\"sk-text-repr-fallback\"><pre>MiniBatchKMeans(n_clusters=7)</pre><b>In a Jupyter environment, please rerun this cell to show the HTML representation or trust the notebook. <br />On GitHub, the HTML representation is unable to render, please try loading this page with nbviewer.org.</b></div><div class=\"sk-container\" hidden><div class=\"sk-item\"><div class=\"sk-estimator sk-toggleable\"><input class=\"sk-toggleable__control sk-hidden--visually\" id=\"sk-estimator-id-1\" type=\"checkbox\" checked><label for=\"sk-estimator-id-1\" class=\"sk-toggleable__label sk-toggleable__label-arrow\">MiniBatchKMeans</label><div class=\"sk-toggleable__content\"><pre>MiniBatchKMeans(n_clusters=7)</pre></div></div></div></div></div>"
            ]
          },
          "metadata": {},
          "execution_count": 22
        }
      ]
    },
    {
      "cell_type": "code",
      "source": [
        "kmeans.labels_"
      ],
      "metadata": {
        "colab": {
          "base_uri": "https://localhost:8080/"
        },
        "outputId": "bc6321ce-eedd-4c7f-84eb-7c595be9bb08",
        "id": "3xKdGQ-wV8zD"
      },
      "execution_count": null,
      "outputs": [
        {
          "output_type": "execute_result",
          "data": {
            "text/plain": [
              "array([5, 1, 1, ..., 4, 1, 0], dtype=int32)"
            ]
          },
          "metadata": {},
          "execution_count": 23
        }
      ]
    },
    {
      "cell_type": "code",
      "source": [
        "len(kmeans.labels_)"
      ],
      "metadata": {
        "colab": {
          "base_uri": "https://localhost:8080/"
        },
        "outputId": "fa10c9af-eec3-4bde-a360-668a1ac92810",
        "id": "P8orVYpqV8zD"
      },
      "execution_count": null,
      "outputs": [
        {
          "output_type": "execute_result",
          "data": {
            "text/plain": [
              "37878"
            ]
          },
          "metadata": {},
          "execution_count": 26
        }
      ]
    },
    {
      "cell_type": "code",
      "source": [
        "len(X_train2)"
      ],
      "metadata": {
        "colab": {
          "base_uri": "https://localhost:8080/"
        },
        "outputId": "af9ea372-01ec-455d-f5b7-743664ee84bd",
        "id": "7zuvLJBsV8zD"
      },
      "execution_count": null,
      "outputs": [
        {
          "output_type": "execute_result",
          "data": {
            "text/plain": [
              "37878"
            ]
          },
          "metadata": {},
          "execution_count": 27
        }
      ]
    },
    {
      "cell_type": "markdown",
      "source": [
        "We infer that each data point in X_train2 has been labeled by k-means and the labels are stored in kmeans.labels_"
      ],
      "metadata": {
        "id": "ejQhFLRTVAw7"
      }
    },
    {
      "cell_type": "code",
      "source": [
        "def retrieve_info(cluster_labels,y_train):\n",
        "    '''\n",
        "    Associates most probable label with each cluster in KMeans model\n",
        "    returns: dictionary of clusters assigned to each label\n",
        "    '''\n",
        "    reference_labels = {}\n",
        "    # For loop to run through each label of cluster label\n",
        "    for i in range(len(np.unique(kmeans.labels_))):\n",
        "        index = np.where(cluster_labels == i,1,0)\n",
        "        if y_train.size: # Check for emptiness and None\n",
        "          num = np.bincount(y_train[index==1]).argmax() # Find the highest probability label\n",
        "          reference_labels[i] = num\n",
        "    return reference_labels"
      ],
      "metadata": {
        "id": "GhvL_5pYV8zE"
      },
      "execution_count": null,
      "outputs": []
    },
    {
      "cell_type": "code",
      "source": [
        "ref_labels = retrieve_info(kmeans.labels_,y_train2.flatten('C'))\n",
        "number_labels = np.random.rand(len(kmeans.labels_))\n",
        "for i in range(len(kmeans.labels_)):\n",
        "    number_labels[i] = ref_labels[kmeans.labels_[i]]"
      ],
      "metadata": {
        "id": "A7vEV_yZV8zE"
      },
      "execution_count": null,
      "outputs": []
    },
    {
      "cell_type": "code",
      "source": [
        "number_labels[:20].astype(int)"
      ],
      "metadata": {
        "colab": {
          "base_uri": "https://localhost:8080/"
        },
        "outputId": "daea9d55-e970-465d-a873-ae815bd321d8",
        "id": "S-9XMgegV8zE"
      },
      "execution_count": null,
      "outputs": [
        {
          "output_type": "execute_result",
          "data": {
            "text/plain": [
              "array([6, 5, 5, 2, 2, 4, 2, 2, 3, 5, 4, 2, 6, 4, 5, 3, 6, 4, 4, 5])"
            ]
          },
          "metadata": {},
          "execution_count": 37
        }
      ]
    },
    {
      "cell_type": "code",
      "source": [
        "y_train2[1:20].reshape(1,19)"
      ],
      "metadata": {
        "colab": {
          "base_uri": "https://localhost:8080/"
        },
        "outputId": "14f6ca6a-583e-4460-cc2e-b42f0cecb14e",
        "id": "uE_mil4zV8zF"
      },
      "execution_count": null,
      "outputs": [
        {
          "output_type": "execute_result",
          "data": {
            "text/plain": [
              "array([[6, 3, 5, 6, 3, 5, 4, 0, 2, 5, 5, 5, 0, 6, 4, 6, 4, 0, 2]])"
            ]
          },
          "metadata": {},
          "execution_count": 47
        }
      ]
    },
    {
      "cell_type": "code",
      "source": [
        "print(accuracy_score(number_labels,y_train2))"
      ],
      "metadata": {
        "colab": {
          "base_uri": "https://localhost:8080/"
        },
        "outputId": "33fb56f2-c269-4afe-fb2e-2a9f5d11ec18",
        "id": "3ibE2rVwV8zF"
      },
      "execution_count": null,
      "outputs": [
        {
          "output_type": "stream",
          "name": "stdout",
          "text": [
            "0.19578647235862506\n"
          ]
        }
      ]
    },
    {
      "cell_type": "markdown",
      "source": [
        "We get a low accuracy of 19.5% on training sub-dataset. To improve it, we go for modifying k values i.e. no. of clusters assumed"
      ],
      "metadata": {
        "id": "jIzJ4a4DTFwO"
      }
    },
    {
      "cell_type": "code",
      "source": [
        "from sklearn.metrics import homogeneity_score"
      ],
      "metadata": {
        "id": "8utitICaV8zF"
      },
      "execution_count": null,
      "outputs": []
    },
    {
      "cell_type": "markdown",
      "source": [
        "We optimize k-means using 3 performance metrics: Accuracy, Inertia and Homogeneity score<br>**Accuracy** score is the percentage of correctly predicted values.<br>**Inertia** is a measure of how internally coherent clusters are. It is inversely proportional to sum of squares of distances between data points and their respective cluster’s centroid. Higher the number of clusters, lower is the inertia score.<br>**Homogeneity** score is a measure of data points of a particular cluster belonging to a single class."
      ],
      "metadata": {
        "id": "VadelJliV8zF"
      }
    },
    {
      "cell_type": "code",
      "source": [
        "def calculate_metrics(model,output):\n",
        "  print('Number of clusters is {}'.format(model.n_clusters))\n",
        "  print('Inertia : {}'.format(model.inertia_))\n",
        "  print('Homogeneity : {}'.format(homogeneity_score(output,model.labels_)))"
      ],
      "metadata": {
        "id": "27UcGJHbV8zG"
      },
      "execution_count": null,
      "outputs": []
    },
    {
      "cell_type": "code",
      "source": [
        "cluster_number = [4,8,10,13,20,36,48,64,144,256]\n",
        "for i in cluster_number:\n",
        "    total_clusters = len(np.unique(y_test2))\n",
        "\n",
        "    kmeans = MiniBatchKMeans(n_clusters = i)\n",
        "\n",
        "    kmeans.fit(X_train2)\n",
        "    \n",
        "    calculate_metrics(kmeans,y_train2.flatten('C'))\n",
        "\n",
        "    reference_labels = retrieve_info(kmeans.labels_,y_train2.flatten('C'))\n",
        "\n",
        "    number_labels = np.random.rand(len(kmeans.labels_))\n",
        "    for i in range(len(kmeans.labels_)):\n",
        "        number_labels[i] = reference_labels[kmeans.labels_[i]]\n",
        " \n",
        "    print('Accuracy score : {}'.format(accuracy_score(number_labels,y_train2)))\n",
        "    print()"
      ],
      "metadata": {
        "colab": {
          "base_uri": "https://localhost:8080/"
        },
        "outputId": "9ea4ef4b-4e79-49bb-930d-54c0cf1930dc",
        "id": "lWbL41QJV8zG"
      },
      "execution_count": null,
      "outputs": [
        {
          "output_type": "stream",
          "name": "stdout",
          "text": [
            "Number of clusters is 4\n",
            "Inertia : 3877825.5\n",
            "Homogeneity : 0.013550036901865129\n",
            "Accuracy score : 0.1926976081102487\n",
            "\n",
            "Number of clusters is 8\n",
            "Inertia : 3497851.25\n",
            "Homogeneity : 0.017261314230683125\n",
            "Accuracy score : 0.19998415967052113\n",
            "\n",
            "Number of clusters is 10\n",
            "Inertia : 3383480.5\n",
            "Homogeneity : 0.018805556423197114\n",
            "Accuracy score : 0.20038016790749247\n",
            "\n",
            "Number of clusters is 13\n",
            "Inertia : 3282949.0\n",
            "Homogeneity : 0.020441029810177355\n",
            "Accuracy score : 0.20420824753154865\n",
            "\n",
            "Number of clusters is 20\n",
            "Inertia : 3111492.5\n",
            "Homogeneity : 0.023589479873704355\n",
            "Accuracy score : 0.20901314747346744\n",
            "\n",
            "Number of clusters is 36\n",
            "Inertia : 2940026.0\n",
            "Homogeneity : 0.028587897853857003\n",
            "Accuracy score : 0.21796293362901947\n",
            "\n",
            "Number of clusters is 48\n",
            "Inertia : 2864481.5\n",
            "Homogeneity : 0.034793271552809174\n",
            "Accuracy score : 0.22514388299276625\n",
            "\n",
            "Number of clusters is 64\n",
            "Inertia : 2770362.5\n",
            "Homogeneity : 0.03929392416349252\n",
            "Accuracy score : 0.23187602302127885\n",
            "\n",
            "Number of clusters is 144\n",
            "Inertia : 2578718.75\n",
            "Homogeneity : 0.07230330319343464\n",
            "Accuracy score : 0.25993980674798034\n",
            "\n",
            "Number of clusters is 256\n",
            "Inertia : 2432472.0\n",
            "Homogeneity : 0.10995390034127407\n",
            "Accuracy score : 0.29064364538782406\n",
            "\n"
          ]
        }
      ]
    },
    {
      "cell_type": "markdown",
      "source": [
        "Inference: The highest accuracy is returned by no. of clusters taken as 256 at 29%<br>We also notice inertia parameter decreases as no. of clusters reaches best possible. This is because distance (SSD) decreases between pixel data and centroids <br>"
      ],
      "metadata": {
        "id": "VVxfJvzgV8zG"
      }
    },
    {
      "cell_type": "markdown",
      "source": [
        "Other inferences: Accuracy scores increases as no. of clusters increase and homogeneity score as clusters become more and more differentiable"
      ],
      "metadata": {
        "id": "OwmfhGTtV8zG"
      }
    },
    {
      "cell_type": "code",
      "source": [
        "# Testing model on testing sub-dataset (X_test2 and y_test2) for k=256\n",
        "\n",
        "kmeans = MiniBatchKMeans(n_clusters = 256)\n",
        "\n",
        "kmeans.fit(X_test2)\n",
        "calculate_metrics(kmeans,y_test2.flatten('C'))\n",
        "ref_labels = retrieve_info(kmeans.labels_,y_test2.flatten('C'))\n",
        "# ‘number_labels’ is a list which denotes the number displayed in image\n",
        "number_labels = np.random.rand(len(kmeans.labels_))\n",
        "for i in range(len(kmeans.labels_)):\n",
        "    number_labels[i] = ref_labels[kmeans.labels_[i]]\n",
        " \n",
        "print('Accuracy score : {}'.format(accuracy_score(number_labels,y_test2)))\n",
        "print()"
      ],
      "metadata": {
        "colab": {
          "base_uri": "https://localhost:8080/"
        },
        "outputId": "ce800a54-748d-46b0-96c0-b24d492f8e3f",
        "id": "Kyy5NuH5V8zH"
      },
      "execution_count": null,
      "outputs": [
        {
          "output_type": "stream",
          "name": "stdout",
          "text": [
            "Number of clusters is 256\n",
            "Inertia : 799935.25\n",
            "Homogeneity : 0.125900051754282\n",
            "Accuracy score : 0.3009424249623822\n",
            "\n"
          ]
        }
      ]
    },
    {
      "cell_type": "markdown",
      "source": [
        "Thus, we have improved the original accuracy from 19.5% to 30%"
      ],
      "metadata": {
        "id": "YCsWC-GsTQpS"
      }
    },
    {
      "cell_type": "markdown",
      "source": [
        "### Inference:\n",
        "As concluded by PCA, we understand that k-means is not a suitable clustering method to find the classes of FER dataset by seeing the low accuracy score when compared with original labels.\n",
        "<br>We also notice that the no. of classes according to our benchmark labeled dataset was 7 but k-means provided a highest accuracy for no. of clusters as 256. This shows that k-means groups the images based on different features such as orientation of the face or similar structure."
      ],
      "metadata": {
        "id": "kXNZAaVsTWOu"
      }
    }
  ],
  "metadata": {
    "colab": {
      "provenance": []
    },
    "kernelspec": {
      "display_name": "Python 3",
      "name": "python3"
    },
    "language_info": {
      "name": "python"
    }
  },
  "nbformat": 4,
  "nbformat_minor": 0
}