{
  "nbformat": 4,
  "nbformat_minor": 0,
  "metadata": {
    "colab": {
      "provenance": [],
      "toc_visible": true
    },
    "kernelspec": {
      "name": "python3",
      "display_name": "Python 3"
    },
    "language_info": {
      "name": "python"
    }
  },
  "cells": [
    {
      "cell_type": "code",
      "execution_count": null,
      "metadata": {
        "id": "LOjhjf6dMDs_"
      },
      "outputs": [],
      "source": [
        "import pandas as pd\n",
        "import numpy as np\n",
        "import seaborn as sns\n",
        "import sklearn.metrics\n",
        "from matplotlib import pyplot as plt\n",
        "import warnings\n",
        "warnings.filterwarnings('ignore')"
      ]
    },
    {
      "cell_type": "markdown",
      "source": [
        "Dataset link: https://drive.google.com/file/d/1SASbfSXeRFSqcHwa-AKC8wgAAy2ncLUQ/view?usp=sharing\n",
        "The dataset contains unemployment figures of 235 countries from 1991 to 2021. The task is to perform EDA and apply prediction algorithms on the dataset."
      ],
      "metadata": {
        "id": "CVV6bk4uiIoc"
      }
    },
    {
      "cell_type": "code",
      "source": [
        "unempdf=pd.read_csv(\"unemployment_analysis.csv\")"
      ],
      "metadata": {
        "id": "vDSTlYfKMfwV"
      },
      "execution_count": null,
      "outputs": []
    },
    {
      "cell_type": "code",
      "source": [
        "print(unempdf.head())"
      ],
      "metadata": {
        "colab": {
          "base_uri": "https://localhost:8080/"
        },
        "id": "k5RROi8tcg6N",
        "outputId": "5c19f344-2412-4f86-896b-ed759eb8cc45"
      },
      "execution_count": null,
      "outputs": [
        {
          "output_type": "stream",
          "name": "stdout",
          "text": [
            "                  Country Name Country Code        1991        1992  \\\n",
            "0  Africa Eastern and Southern          AFE    7.8 lacs   7.84 lacs   \n",
            "1                  Afghanistan          AFG  10.65 lacs  10.82 lacs   \n",
            "2   Africa Western and Central          AFW   4.42 lacs   4.53 lacs   \n",
            "3                       Angola          AGO   4.21 lacs   4.21 lacs   \n",
            "4                      Albania          ALB  10.31 lacs  30.01 lacs   \n",
            "\n",
            "         1993        1994        1995        1996        1997        1998  \\\n",
            "0   7.85 lacs   7.84 lacs   7.83 lacs   7.84 lacs   7.86 lacs   7.81 lacs   \n",
            "1  10.72 lacs  10.73 lacs  11.18 lacs  10.96 lacs  10.78 lacs   10.8 lacs   \n",
            "2   4.55 lacs   4.54 lacs   4.53 lacs   4.57 lacs    4.6 lacs   4.66 lacs   \n",
            "3   4.23 lacs   4.16 lacs   4.11 lacs    4.1 lacs   4.09 lacs   4.07 lacs   \n",
            "4  25.26 lacs  20.84 lacs  14.61 lacs  13.93 lacs  16.88 lacs  20.05 lacs   \n",
            "\n",
            "   ...        2012        2013        2014        2015        2016  \\\n",
            "0  ...   6.56 lacs   6.45 lacs   6.41 lacs   6.49 lacs   6.61 lacs   \n",
            "1  ...  11.34 lacs  11.19 lacs  11.14 lacs  11.13 lacs  11.16 lacs   \n",
            "2  ...   4.64 lacs   4.41 lacs   4.69 lacs   4.63 lacs   5.57 lacs   \n",
            "3  ...   7.35 lacs   7.37 lacs   7.37 lacs   7.39 lacs   7.41 lacs   \n",
            "4  ...  13.38 lacs  15.87 lacs  18.05 lacs  17.19 lacs  15.42 lacs   \n",
            "\n",
            "         2017        2018        2019        2020        2021  \n",
            "0   6.71 lacs   6.73 lacs   6.91 lacs   7.56 lacs   8.11 lacs  \n",
            "1  11.18 lacs  11.15 lacs  11.22 lacs  11.71 lacs  13.28 lacs  \n",
            "2   6.02 lacs   6.04 lacs   6.06 lacs   6.77 lacs   6.84 lacs  \n",
            "3   7.41 lacs   7.42 lacs   7.42 lacs   8.33 lacs   8.53 lacs  \n",
            "4  13.62 lacs   12.3 lacs  11.47 lacs  13.33 lacs  11.82 lacs  \n",
            "\n",
            "[5 rows x 33 columns]\n"
          ]
        }
      ]
    },
    {
      "cell_type": "code",
      "source": [
        "unempdf.shape"
      ],
      "metadata": {
        "colab": {
          "base_uri": "https://localhost:8080/"
        },
        "id": "fmz2J_FMbb85",
        "outputId": "3d23e352-4a0b-4c83-aba6-60fd54c8e994"
      },
      "execution_count": null,
      "outputs": [
        {
          "output_type": "execute_result",
          "data": {
            "text/plain": [
              "(235, 33)"
            ]
          },
          "metadata": {},
          "execution_count": 116
        }
      ]
    },
    {
      "cell_type": "code",
      "source": [
        "unempdf.describe().T"
      ],
      "metadata": {
        "colab": {
          "base_uri": "https://localhost:8080/",
          "height": 821
        },
        "id": "XfsVmqAqsOKh",
        "outputId": "b884430b-e4b8-482a-813f-73a4edc90ec2"
      },
      "execution_count": null,
      "outputs": [
        {
          "output_type": "execute_result",
          "data": {
            "text/plain": [
              "             count unique                          top freq\n",
              "Country Name   235    235  Africa Eastern and Southern    1\n",
              "Country Code   235    235                          AFE    1\n",
              "1991           235    216                     1.9 lacs    4\n",
              "1992           235    207                    4.99 lacs    3\n",
              "1993           235    210                     6.6 lacs    4\n",
              "1994           235    214                    6.59 lacs    3\n",
              "1995           235    213                    5.63 lacs    3\n",
              "1996           235    217                     6.6 lacs    3\n",
              "1997           235    217                    6.63 lacs    3\n",
              "1998           235    212                     2.9 lacs    3\n",
              "1999           235    214                    6.16 lacs    3\n",
              "2000           234    218                    6.67 lacs    3\n",
              "2001           235    216                    6.65 lacs    3\n",
              "2002           235    218                    6.77 lacs    3\n",
              "2003           235    219                    5.93 lacs    4\n",
              "2004           235    212                    6.35 lacs    4\n",
              "2005           235    214                    6.22 lacs    3\n",
              "2006           235    219                    3.86 lacs    3\n",
              "2007           235    217                    5.95 lacs    3\n",
              "2008           235    211                    5.86 lacs    4\n",
              "2009           235    214                    5.86 lacs    4\n",
              "2010           235    216                       6 lacs    3\n",
              "2011           235    216                    4.79 lacs    3\n",
              "2012           235    212                    5.85 lacs    3\n",
              "2013           235    216                    5.71 lacs    3\n",
              "2014           235    215                   10.85 lacs    3\n",
              "2015           234    216                    5.82 lacs    3\n",
              "2016           235    219                     5.9 lacs    3\n",
              "2017           235    206                    6.47 lacs    3\n",
              "2018           235    217                    6.48 lacs    3\n",
              "2019           235    208                    4.45 lacs    4\n",
              "2020           235    218                    7.28 lacs    3\n",
              "2021           235    217                    7.66 lacs    3"
            ],
            "text/html": [
              "\n",
              "  <div id=\"df-a9fbdf18-c65f-4e98-bce5-c3946a702fba\">\n",
              "    <div class=\"colab-df-container\">\n",
              "      <div>\n",
              "<style scoped>\n",
              "    .dataframe tbody tr th:only-of-type {\n",
              "        vertical-align: middle;\n",
              "    }\n",
              "\n",
              "    .dataframe tbody tr th {\n",
              "        vertical-align: top;\n",
              "    }\n",
              "\n",
              "    .dataframe thead th {\n",
              "        text-align: right;\n",
              "    }\n",
              "</style>\n",
              "<table border=\"1\" class=\"dataframe\">\n",
              "  <thead>\n",
              "    <tr style=\"text-align: right;\">\n",
              "      <th></th>\n",
              "      <th>count</th>\n",
              "      <th>unique</th>\n",
              "      <th>top</th>\n",
              "      <th>freq</th>\n",
              "    </tr>\n",
              "  </thead>\n",
              "  <tbody>\n",
              "    <tr>\n",
              "      <th>Country Name</th>\n",
              "      <td>235</td>\n",
              "      <td>235</td>\n",
              "      <td>Africa Eastern and Southern</td>\n",
              "      <td>1</td>\n",
              "    </tr>\n",
              "    <tr>\n",
              "      <th>Country Code</th>\n",
              "      <td>235</td>\n",
              "      <td>235</td>\n",
              "      <td>AFE</td>\n",
              "      <td>1</td>\n",
              "    </tr>\n",
              "    <tr>\n",
              "      <th>1991</th>\n",
              "      <td>235</td>\n",
              "      <td>216</td>\n",
              "      <td>1.9 lacs</td>\n",
              "      <td>4</td>\n",
              "    </tr>\n",
              "    <tr>\n",
              "      <th>1992</th>\n",
              "      <td>235</td>\n",
              "      <td>207</td>\n",
              "      <td>4.99 lacs</td>\n",
              "      <td>3</td>\n",
              "    </tr>\n",
              "    <tr>\n",
              "      <th>1993</th>\n",
              "      <td>235</td>\n",
              "      <td>210</td>\n",
              "      <td>6.6 lacs</td>\n",
              "      <td>4</td>\n",
              "    </tr>\n",
              "    <tr>\n",
              "      <th>1994</th>\n",
              "      <td>235</td>\n",
              "      <td>214</td>\n",
              "      <td>6.59 lacs</td>\n",
              "      <td>3</td>\n",
              "    </tr>\n",
              "    <tr>\n",
              "      <th>1995</th>\n",
              "      <td>235</td>\n",
              "      <td>213</td>\n",
              "      <td>5.63 lacs</td>\n",
              "      <td>3</td>\n",
              "    </tr>\n",
              "    <tr>\n",
              "      <th>1996</th>\n",
              "      <td>235</td>\n",
              "      <td>217</td>\n",
              "      <td>6.6 lacs</td>\n",
              "      <td>3</td>\n",
              "    </tr>\n",
              "    <tr>\n",
              "      <th>1997</th>\n",
              "      <td>235</td>\n",
              "      <td>217</td>\n",
              "      <td>6.63 lacs</td>\n",
              "      <td>3</td>\n",
              "    </tr>\n",
              "    <tr>\n",
              "      <th>1998</th>\n",
              "      <td>235</td>\n",
              "      <td>212</td>\n",
              "      <td>2.9 lacs</td>\n",
              "      <td>3</td>\n",
              "    </tr>\n",
              "    <tr>\n",
              "      <th>1999</th>\n",
              "      <td>235</td>\n",
              "      <td>214</td>\n",
              "      <td>6.16 lacs</td>\n",
              "      <td>3</td>\n",
              "    </tr>\n",
              "    <tr>\n",
              "      <th>2000</th>\n",
              "      <td>234</td>\n",
              "      <td>218</td>\n",
              "      <td>6.67 lacs</td>\n",
              "      <td>3</td>\n",
              "    </tr>\n",
              "    <tr>\n",
              "      <th>2001</th>\n",
              "      <td>235</td>\n",
              "      <td>216</td>\n",
              "      <td>6.65 lacs</td>\n",
              "      <td>3</td>\n",
              "    </tr>\n",
              "    <tr>\n",
              "      <th>2002</th>\n",
              "      <td>235</td>\n",
              "      <td>218</td>\n",
              "      <td>6.77 lacs</td>\n",
              "      <td>3</td>\n",
              "    </tr>\n",
              "    <tr>\n",
              "      <th>2003</th>\n",
              "      <td>235</td>\n",
              "      <td>219</td>\n",
              "      <td>5.93 lacs</td>\n",
              "      <td>4</td>\n",
              "    </tr>\n",
              "    <tr>\n",
              "      <th>2004</th>\n",
              "      <td>235</td>\n",
              "      <td>212</td>\n",
              "      <td>6.35 lacs</td>\n",
              "      <td>4</td>\n",
              "    </tr>\n",
              "    <tr>\n",
              "      <th>2005</th>\n",
              "      <td>235</td>\n",
              "      <td>214</td>\n",
              "      <td>6.22 lacs</td>\n",
              "      <td>3</td>\n",
              "    </tr>\n",
              "    <tr>\n",
              "      <th>2006</th>\n",
              "      <td>235</td>\n",
              "      <td>219</td>\n",
              "      <td>3.86 lacs</td>\n",
              "      <td>3</td>\n",
              "    </tr>\n",
              "    <tr>\n",
              "      <th>2007</th>\n",
              "      <td>235</td>\n",
              "      <td>217</td>\n",
              "      <td>5.95 lacs</td>\n",
              "      <td>3</td>\n",
              "    </tr>\n",
              "    <tr>\n",
              "      <th>2008</th>\n",
              "      <td>235</td>\n",
              "      <td>211</td>\n",
              "      <td>5.86 lacs</td>\n",
              "      <td>4</td>\n",
              "    </tr>\n",
              "    <tr>\n",
              "      <th>2009</th>\n",
              "      <td>235</td>\n",
              "      <td>214</td>\n",
              "      <td>5.86 lacs</td>\n",
              "      <td>4</td>\n",
              "    </tr>\n",
              "    <tr>\n",
              "      <th>2010</th>\n",
              "      <td>235</td>\n",
              "      <td>216</td>\n",
              "      <td>6 lacs</td>\n",
              "      <td>3</td>\n",
              "    </tr>\n",
              "    <tr>\n",
              "      <th>2011</th>\n",
              "      <td>235</td>\n",
              "      <td>216</td>\n",
              "      <td>4.79 lacs</td>\n",
              "      <td>3</td>\n",
              "    </tr>\n",
              "    <tr>\n",
              "      <th>2012</th>\n",
              "      <td>235</td>\n",
              "      <td>212</td>\n",
              "      <td>5.85 lacs</td>\n",
              "      <td>3</td>\n",
              "    </tr>\n",
              "    <tr>\n",
              "      <th>2013</th>\n",
              "      <td>235</td>\n",
              "      <td>216</td>\n",
              "      <td>5.71 lacs</td>\n",
              "      <td>3</td>\n",
              "    </tr>\n",
              "    <tr>\n",
              "      <th>2014</th>\n",
              "      <td>235</td>\n",
              "      <td>215</td>\n",
              "      <td>10.85 lacs</td>\n",
              "      <td>3</td>\n",
              "    </tr>\n",
              "    <tr>\n",
              "      <th>2015</th>\n",
              "      <td>234</td>\n",
              "      <td>216</td>\n",
              "      <td>5.82 lacs</td>\n",
              "      <td>3</td>\n",
              "    </tr>\n",
              "    <tr>\n",
              "      <th>2016</th>\n",
              "      <td>235</td>\n",
              "      <td>219</td>\n",
              "      <td>5.9 lacs</td>\n",
              "      <td>3</td>\n",
              "    </tr>\n",
              "    <tr>\n",
              "      <th>2017</th>\n",
              "      <td>235</td>\n",
              "      <td>206</td>\n",
              "      <td>6.47 lacs</td>\n",
              "      <td>3</td>\n",
              "    </tr>\n",
              "    <tr>\n",
              "      <th>2018</th>\n",
              "      <td>235</td>\n",
              "      <td>217</td>\n",
              "      <td>6.48 lacs</td>\n",
              "      <td>3</td>\n",
              "    </tr>\n",
              "    <tr>\n",
              "      <th>2019</th>\n",
              "      <td>235</td>\n",
              "      <td>208</td>\n",
              "      <td>4.45 lacs</td>\n",
              "      <td>4</td>\n",
              "    </tr>\n",
              "    <tr>\n",
              "      <th>2020</th>\n",
              "      <td>235</td>\n",
              "      <td>218</td>\n",
              "      <td>7.28 lacs</td>\n",
              "      <td>3</td>\n",
              "    </tr>\n",
              "    <tr>\n",
              "      <th>2021</th>\n",
              "      <td>235</td>\n",
              "      <td>217</td>\n",
              "      <td>7.66 lacs</td>\n",
              "      <td>3</td>\n",
              "    </tr>\n",
              "  </tbody>\n",
              "</table>\n",
              "</div>\n",
              "      <button class=\"colab-df-convert\" onclick=\"convertToInteractive('df-a9fbdf18-c65f-4e98-bce5-c3946a702fba')\"\n",
              "              title=\"Convert this dataframe to an interactive table.\"\n",
              "              style=\"display:none;\">\n",
              "        \n",
              "  <svg xmlns=\"http://www.w3.org/2000/svg\" height=\"24px\"viewBox=\"0 0 24 24\"\n",
              "       width=\"24px\">\n",
              "    <path d=\"M0 0h24v24H0V0z\" fill=\"none\"/>\n",
              "    <path d=\"M18.56 5.44l.94 2.06.94-2.06 2.06-.94-2.06-.94-.94-2.06-.94 2.06-2.06.94zm-11 1L8.5 8.5l.94-2.06 2.06-.94-2.06-.94L8.5 2.5l-.94 2.06-2.06.94zm10 10l.94 2.06.94-2.06 2.06-.94-2.06-.94-.94-2.06-.94 2.06-2.06.94z\"/><path d=\"M17.41 7.96l-1.37-1.37c-.4-.4-.92-.59-1.43-.59-.52 0-1.04.2-1.43.59L10.3 9.45l-7.72 7.72c-.78.78-.78 2.05 0 2.83L4 21.41c.39.39.9.59 1.41.59.51 0 1.02-.2 1.41-.59l7.78-7.78 2.81-2.81c.8-.78.8-2.07 0-2.86zM5.41 20L4 18.59l7.72-7.72 1.47 1.35L5.41 20z\"/>\n",
              "  </svg>\n",
              "      </button>\n",
              "      \n",
              "  <style>\n",
              "    .colab-df-container {\n",
              "      display:flex;\n",
              "      flex-wrap:wrap;\n",
              "      gap: 12px;\n",
              "    }\n",
              "\n",
              "    .colab-df-convert {\n",
              "      background-color: #E8F0FE;\n",
              "      border: none;\n",
              "      border-radius: 50%;\n",
              "      cursor: pointer;\n",
              "      display: none;\n",
              "      fill: #1967D2;\n",
              "      height: 32px;\n",
              "      padding: 0 0 0 0;\n",
              "      width: 32px;\n",
              "    }\n",
              "\n",
              "    .colab-df-convert:hover {\n",
              "      background-color: #E2EBFA;\n",
              "      box-shadow: 0px 1px 2px rgba(60, 64, 67, 0.3), 0px 1px 3px 1px rgba(60, 64, 67, 0.15);\n",
              "      fill: #174EA6;\n",
              "    }\n",
              "\n",
              "    [theme=dark] .colab-df-convert {\n",
              "      background-color: #3B4455;\n",
              "      fill: #D2E3FC;\n",
              "    }\n",
              "\n",
              "    [theme=dark] .colab-df-convert:hover {\n",
              "      background-color: #434B5C;\n",
              "      box-shadow: 0px 1px 3px 1px rgba(0, 0, 0, 0.15);\n",
              "      filter: drop-shadow(0px 1px 2px rgba(0, 0, 0, 0.3));\n",
              "      fill: #FFFFFF;\n",
              "    }\n",
              "  </style>\n",
              "\n",
              "      <script>\n",
              "        const buttonEl =\n",
              "          document.querySelector('#df-a9fbdf18-c65f-4e98-bce5-c3946a702fba button.colab-df-convert');\n",
              "        buttonEl.style.display =\n",
              "          google.colab.kernel.accessAllowed ? 'block' : 'none';\n",
              "\n",
              "        async function convertToInteractive(key) {\n",
              "          const element = document.querySelector('#df-a9fbdf18-c65f-4e98-bce5-c3946a702fba');\n",
              "          const dataTable =\n",
              "            await google.colab.kernel.invokeFunction('convertToInteractive',\n",
              "                                                     [key], {});\n",
              "          if (!dataTable) return;\n",
              "\n",
              "          const docLinkHtml = 'Like what you see? Visit the ' +\n",
              "            '<a target=\"_blank\" href=https://colab.research.google.com/notebooks/data_table.ipynb>data table notebook</a>'\n",
              "            + ' to learn more about interactive tables.';\n",
              "          element.innerHTML = '';\n",
              "          dataTable['output_type'] = 'display_data';\n",
              "          await google.colab.output.renderOutput(dataTable, element);\n",
              "          const docLink = document.createElement('div');\n",
              "          docLink.innerHTML = docLinkHtml;\n",
              "          element.appendChild(docLink);\n",
              "        }\n",
              "      </script>\n",
              "    </div>\n",
              "  </div>\n",
              "  "
            ]
          },
          "metadata": {},
          "execution_count": 117
        }
      ]
    },
    {
      "cell_type": "markdown",
      "source": [
        "## EDA and Data Cleaning"
      ],
      "metadata": {
        "id": "YMGkwrnPjTgW"
      }
    },
    {
      "cell_type": "code",
      "source": [
        "years=unempdf.filter(regex='[1-2][0-9]{3}',axis=1)\n",
        "for i in years:\n",
        "  if i == '1991':\n",
        "    years[i] = years[i].squeeze()\n",
        "  years[i]=pd.DataFrame(years[i].replace('[^\\d.]+', '')).astype(float)\n",
        "\n",
        "# print(years)\n",
        "years = years.T.drop_duplicates().T\n",
        "newdf = [unempdf.iloc[:,0:2],years]\n",
        "unempdf = pd.concat(newdf,axis=1,join='inner')\n",
        "print(unempdf.head())"
      ],
      "metadata": {
        "colab": {
          "base_uri": "https://localhost:8080/"
        },
        "id": "IrMlCweQMpXY",
        "outputId": "483dee89-af0f-4700-f58b-ec3ecea7401d"
      },
      "execution_count": null,
      "outputs": [
        {
          "output_type": "stream",
          "name": "stdout",
          "text": [
            "                  Country Name Country Code   1991   1992   1993   1994  \\\n",
            "0  Africa Eastern and Southern          AFE   7.80   7.84   7.85   7.84   \n",
            "1                  Afghanistan          AFG  10.65  10.82  10.72  10.73   \n",
            "2   Africa Western and Central          AFW   4.42   4.53   4.55   4.54   \n",
            "3                       Angola          AGO   4.21   4.21   4.23   4.16   \n",
            "4                      Albania          ALB  10.31  30.01  25.26  20.84   \n",
            "\n",
            "    1995   1996   1997   1998  ...   2012   2013   2014   2015   2016   2017  \\\n",
            "0   7.83   7.84   7.86   7.81  ...   6.56   6.45   6.41   6.49   6.61   6.71   \n",
            "1  11.18  10.96  10.78  10.80  ...  11.34  11.19  11.14  11.13  11.16  11.18   \n",
            "2   4.53   4.57   4.60   4.66  ...   4.64   4.41   4.69   4.63   5.57   6.02   \n",
            "3   4.11   4.10   4.09   4.07  ...   7.35   7.37   7.37   7.39   7.41   7.41   \n",
            "4  14.61  13.93  16.88  20.05  ...  13.38  15.87  18.05  17.19  15.42  13.62   \n",
            "\n",
            "    2018   2019   2020   2021  \n",
            "0   6.73   6.91   7.56   8.11  \n",
            "1  11.15  11.22  11.71  13.28  \n",
            "2   6.04   6.06   6.77   6.84  \n",
            "3   7.42   7.42   8.33   8.53  \n",
            "4  12.30  11.47  13.33  11.82  \n",
            "\n",
            "[5 rows x 33 columns]\n"
          ]
        }
      ]
    },
    {
      "cell_type": "code",
      "source": [
        "print(unempdf.dtypes)"
      ],
      "metadata": {
        "id": "5dzFqMDkcmAS",
        "colab": {
          "base_uri": "https://localhost:8080/"
        },
        "outputId": "600dfe1c-abee-4751-ba34-fccfd60104a7"
      },
      "execution_count": null,
      "outputs": [
        {
          "output_type": "stream",
          "name": "stdout",
          "text": [
            "Country Name     object\n",
            "Country Code     object\n",
            "1991            float64\n",
            "1992            float64\n",
            "1993            float64\n",
            "1994            float64\n",
            "1995            float64\n",
            "1996            float64\n",
            "1997            float64\n",
            "1998            float64\n",
            "1999            float64\n",
            "2000            float64\n",
            "2001            float64\n",
            "2002            float64\n",
            "2003            float64\n",
            "2004            float64\n",
            "2005            float64\n",
            "2006            float64\n",
            "2007            float64\n",
            "2008            float64\n",
            "2009            float64\n",
            "2010            float64\n",
            "2011            float64\n",
            "2012            float64\n",
            "2013            float64\n",
            "2014            float64\n",
            "2015            float64\n",
            "2016            float64\n",
            "2017            float64\n",
            "2018            float64\n",
            "2019            float64\n",
            "2020            float64\n",
            "2021            float64\n",
            "dtype: object\n"
          ]
        }
      ]
    },
    {
      "cell_type": "code",
      "source": [
        "# unempdf['Country Name'].unique()\n",
        "di = unempdf.set_index('Country Name').T.to_dict('list');\n",
        "for i in di.keys():\n",
        "  print(i,di[i][0])"
      ],
      "metadata": {
        "id": "esnq7-Apc9ue",
        "colab": {
          "base_uri": "https://localhost:8080/"
        },
        "outputId": "9ff55a77-125f-4039-8e6c-c1babea8b1a1"
      },
      "execution_count": null,
      "outputs": [
        {
          "output_type": "stream",
          "name": "stdout",
          "text": [
            "Africa Eastern and Southern AFE\n",
            "Afghanistan AFG\n",
            "Africa Western and Central AFW\n",
            "Angola AGO\n",
            "Albania ALB\n",
            "Arab World ARB\n",
            "United Arab Emirates ARE\n",
            "Argentina ARG\n",
            "Armenia ARM\n",
            "Australia AUS\n",
            "Austria AUT\n",
            "Azerbaijan AZE\n",
            "Burundi BDI\n",
            "Belgium BEL\n",
            "Benin BEN\n",
            "Burkina Faso BFA\n",
            "Bangladesh BGD\n",
            "Bulgaria BGR\n",
            "Bahrain BHR\n",
            "Bahamas, The BHS\n",
            "Bosnia and Herzegovina BIH\n",
            "Belarus BLR\n",
            "Belize BLZ\n",
            "Bolivia BOL\n",
            "Brazil BRA\n",
            "Barbados BRB\n",
            "Brunei Darussalam BRN\n",
            "Bhutan BTN\n",
            "Botswana BWA\n",
            "Central African Republic CAF\n",
            "Canada CAN\n",
            "Central Europe and the Baltics CEB\n",
            "Switzerland CHE\n",
            "Channel Islands CHI\n",
            "Chile CHL\n",
            "China CHN\n",
            "Cote d'Ivoire CIV\n",
            "Cameroon CMR\n",
            "Congo, Dem. Rep. COD\n",
            "Congo, Rep. COG\n",
            "Colombia COL\n",
            "Comoros COM\n",
            "Cabo Verde CPV\n",
            "Costa Rica CRI\n",
            "Caribbean small states CSS\n",
            "Cuba CUB\n",
            "Cyprus CYP\n",
            "Czech Republic CZE\n",
            "Germany DEU\n",
            "Djibouti DJI\n",
            "Denmark DNK\n",
            "Dominican Republic DOM\n",
            "Algeria DZA\n",
            "East Asia & Pacific (excluding high income) EAP\n",
            "Early-demographic dividend EAR\n",
            "East Asia & Pacific EAS\n",
            "Europe & Central Asia (excluding high income) ECA\n",
            "Europe & Central Asia ECS\n",
            "Ecuador ECU\n",
            "Egypt, Arab Rep. EGY\n",
            "Euro area EMU\n",
            "Eritrea ERI\n",
            "Spain ESP\n",
            "Estonia EST\n",
            "Ethiopia ETH\n",
            "European Union EUU\n",
            "Fragile and conflict affected situations FCS\n",
            "Finland FIN\n",
            "Fiji FJI\n",
            "France FRA\n",
            "Gabon GAB\n",
            "United Kingdom GBR\n",
            "Georgia GEO\n",
            "Ghana GHA\n",
            "Guinea GIN\n",
            "Gambia, The GMB\n",
            "Guinea-Bissau GNB\n",
            "Equatorial Guinea GNQ\n",
            "Greece GRC\n",
            "Guatemala GTM\n",
            "Guam GUM\n",
            "Guyana GUY\n",
            "High income HIC\n",
            "Hong Kong SAR, China HKG\n",
            "Honduras HND\n",
            "Heavily indebted poor countries (HIPC) HPC\n",
            "Croatia HRV\n",
            "Haiti HTI\n",
            "Hungary HUN\n",
            "IBRD only IBD\n",
            "IDA & IBRD total IBT\n",
            "IDA total IDA\n",
            "IDA blend IDB\n",
            "Indonesia IDN\n",
            "IDA only IDX\n",
            "India IND\n",
            "Ireland IRL\n",
            "Iran, Islamic Rep. IRN\n",
            "Iraq IRQ\n",
            "Iceland ISL\n",
            "Israel ISR\n",
            "Italy ITA\n",
            "Jamaica JAM\n",
            "Jordan JOR\n",
            "Japan JPN\n",
            "Kazakhstan KAZ\n",
            "Kenya KEN\n",
            "Kyrgyz Republic KGZ\n",
            "Cambodia KHM\n",
            "Korea, Rep. KOR\n",
            "Kuwait KWT\n",
            "Latin America & Caribbean (excluding high income) LAC\n",
            "Lao PDR LAO\n",
            "Lebanon LBN\n",
            "Liberia LBR\n",
            "Libya LBY\n",
            "St. Lucia LCA\n",
            "Latin America & Caribbean LCN\n",
            "Least developed countries: UN classification LDC\n",
            "Low income LIC\n",
            "Sri Lanka LKA\n",
            "Lower middle income LMC\n",
            "Low & middle income LMY\n",
            "Lesotho LSO\n",
            "Late-demographic dividend LTE\n",
            "Lithuania LTU\n",
            "Luxembourg LUX\n",
            "Latvia LVA\n",
            "Macao SAR, China MAC\n",
            "Morocco MAR\n",
            "Moldova MDA\n",
            "Madagascar MDG\n",
            "Maldives MDV\n",
            "Middle East & North Africa MEA\n",
            "Mexico MEX\n",
            "Middle income MIC\n",
            "North Macedonia MKD\n",
            "Mali MLI\n",
            "Malta MLT\n",
            "Myanmar MMR\n",
            "Middle East & North Africa (excluding high income) MNA\n",
            "Montenegro MNE\n",
            "Mongolia MNG\n",
            "Mozambique MOZ\n",
            "Mauritania MRT\n",
            "Mauritius MUS\n",
            "Malawi MWI\n",
            "Malaysia MYS\n",
            "North America NAC\n",
            "Namibia NAM\n",
            "New Caledonia NCL\n",
            "Niger NER\n",
            "Nigeria NGA\n",
            "Nicaragua NIC\n",
            "Netherlands NLD\n",
            "Norway NOR\n",
            "Nepal NPL\n",
            "New Zealand NZL\n",
            "OECD members OED\n",
            "Oman OMN\n",
            "Other small states OSS\n",
            "Pakistan PAK\n",
            "Panama PAN\n",
            "Peru PER\n",
            "Philippines PHL\n",
            "Papua New Guinea PNG\n",
            "Poland POL\n",
            "Pre-demographic dividend PRE\n",
            "Puerto Rico PRI\n",
            "Korea, Dem. People's Rep. PRK\n",
            "Portugal PRT\n",
            "Paraguay PRY\n",
            "West Bank and Gaza PSE\n",
            "Pacific island small states PSS\n",
            "Post-demographic dividend PST\n",
            "French Polynesia PYF\n",
            "Qatar QAT\n",
            "Romania ROU\n",
            "Russian Federation RUS\n",
            "Rwanda RWA\n",
            "South Asia SAS\n",
            "Saudi Arabia SAU\n",
            "Sudan SDN\n",
            "Senegal SEN\n",
            "Singapore SGP\n",
            "Solomon Islands SLB\n",
            "Sierra Leone SLE\n",
            "El Salvador SLV\n",
            "Somalia SOM\n",
            "Serbia SRB\n",
            "Sub-Saharan Africa (excluding high income) SSA\n",
            "South Sudan SSD\n",
            "Sub-Saharan Africa SSF\n",
            "Small states SST\n",
            "Sao Tome and Principe STP\n",
            "Suriname SUR\n",
            "Slovak Republic SVK\n",
            "Slovenia SVN\n",
            "Sweden SWE\n",
            "Eswatini SWZ\n",
            "Syrian Arab Republic SYR\n",
            "Chad TCD\n",
            "East Asia & Pacific (IDA & IBRD countries) TEA\n",
            "Europe & Central Asia (IDA & IBRD countries) TEC\n",
            "Togo TGO\n",
            "Thailand THA\n",
            "Tajikistan TJK\n",
            "Turkmenistan TKM\n",
            "Latin America & the Caribbean (IDA & IBRD countries) TLA\n",
            "Timor-Leste TLS\n",
            "Middle East & North Africa (IDA & IBRD countries) TMN\n",
            "Tonga TON\n",
            "South Asia (IDA & IBRD) TSA\n",
            "Sub-Saharan Africa (IDA & IBRD countries) TSS\n",
            "Trinidad and Tobago TTO\n",
            "Tunisia TUN\n",
            "Turkiye TUR\n",
            "Tanzania TZA\n",
            "Uganda UGA\n",
            "Ukraine UKR\n",
            "Upper middle income UMC\n",
            "Uruguay URY\n",
            "United States USA\n",
            "Uzbekistan UZB\n",
            "St. Vincent and the Grenadines VCT\n",
            "Venezuela, RB VEN\n",
            "Virgin Islands (U.S.) VIR\n",
            "Vietnam VNM\n",
            "Vanuatu VUT\n",
            "World WLD\n",
            "Samoa WSM\n",
            "Yemen, Rep. YEM\n",
            "South Africa ZAF\n",
            "Zambia ZMB\n",
            "Zimbabwe ZWE\n"
          ]
        }
      ]
    },
    {
      "cell_type": "code",
      "source": [
        "und = pd.DataFrame(years.to_dict())\n",
        "und['Total unemployment'] = und.sum(axis=1)\n",
        "# Total unemployment of all countries\n",
        "print(und['Total unemployment'])"
      ],
      "metadata": {
        "colab": {
          "base_uri": "https://localhost:8080/"
        },
        "id": "YC4VnE4xEfDF",
        "outputId": "45705ed0-4512-47d6-a6a4-a6d2d583cf26"
      },
      "execution_count": null,
      "outputs": [
        {
          "output_type": "stream",
          "name": "stdout",
          "text": [
            "0      224.57\n",
            "1      345.38\n",
            "2      153.27\n",
            "3      169.02\n",
            "4      505.86\n",
            "        ...  \n",
            "230    180.98\n",
            "231    365.60\n",
            "232    875.21\n",
            "233    407.96\n",
            "234    160.50\n",
            "Name: Total unemployment, Length: 235, dtype: float64\n"
          ]
        }
      ]
    },
    {
      "cell_type": "code",
      "source": [
        "def data_cleaning():\n",
        "  unempdf.isna().sum(axis=1)\n",
        "  print(unempdf[unempdf.isnull().any(axis=1)])\n",
        "  unempd = unempdf.fillna(unempdf.mean())\n",
        "  print(unempd.isnull().sum())\n",
        "data_cleaning()"
      ],
      "metadata": {
        "id": "4yfwc_xIdTz1",
        "colab": {
          "base_uri": "https://localhost:8080/"
        },
        "outputId": "34e50f0c-be16-4a1c-e49f-e1317fb5af45"
      },
      "execution_count": null,
      "outputs": [
        {
          "output_type": "stream",
          "name": "stdout",
          "text": [
            "        Country Name Country Code       1991       1992       1993       1994  \\\n",
            "136  North Macedonia          MKD  24.5 lacs  26.3 lacs  27.7 lacs    30 lacs   \n",
            "228          Vanuatu          VUT  1.68 lacs  1.69 lacs  1.73 lacs  1.59 lacs   \n",
            "\n",
            "          1995       1996       1997       1998  ...        2012       2013  \\\n",
            "136  35.6 lacs  38.8 lacs    36 lacs  34.5 lacs  ...  31.02 lacs    29 lacs   \n",
            "228  1.74 lacs  1.72 lacs  1.68 lacs  1.76 lacs  ...   1.85 lacs  1.86 lacs   \n",
            "\n",
            "           2014       2015        2016        2017        2018        2019  \\\n",
            "136  28.03 lacs        NaN  23.72 lacs  22.38 lacs  20.74 lacs  17.26 lacs   \n",
            "228   1.81 lacs  1.86 lacs   1.78 lacs   1.75 lacs   1.81 lacs    1.8 lacs   \n",
            "\n",
            "          2020       2021  \n",
            "136  17.2 lacs  16.2 lacs  \n",
            "228  2.12 lacs  2.18 lacs  \n",
            "\n",
            "[2 rows x 33 columns]\n",
            "Country Name    0\n",
            "Country Code    0\n",
            "1991            0\n",
            "1992            0\n",
            "1993            0\n",
            "1994            0\n",
            "1995            0\n",
            "1996            0\n",
            "1997            0\n",
            "1998            0\n",
            "1999            0\n",
            "2000            1\n",
            "2001            0\n",
            "2002            0\n",
            "2003            0\n",
            "2004            0\n",
            "2005            0\n",
            "2006            0\n",
            "2007            0\n",
            "2008            0\n",
            "2009            0\n",
            "2010            0\n",
            "2011            0\n",
            "2012            0\n",
            "2013            0\n",
            "2014            0\n",
            "2015            1\n",
            "2016            0\n",
            "2017            0\n",
            "2018            0\n",
            "2019            0\n",
            "2020            0\n",
            "2021            0\n",
            "dtype: int64\n"
          ]
        }
      ]
    },
    {
      "cell_type": "code",
      "source": [],
      "metadata": {
        "id": "A3FtMtSzge9S",
        "colab": {
          "base_uri": "https://localhost:8080/"
        },
        "outputId": "2f6bbdc2-3a2b-4574-9af9-20c0fc95bd5b"
      },
      "execution_count": null,
      "outputs": [
        {
          "output_type": "stream",
          "name": "stdout",
          "text": [
            "Empty DataFrame\n",
            "Columns: [Country Name, Country Code, 1991, 1992, 1993, 1994, 1995, 1996, 1997, 1998, 1999, 2000, 2001, 2002, 2003, 2004, 2005, 2006, 2007, 2008, 2009, 2010, 2011, 2012, 2013, 2014, 2015, 2016, 2017, 2018, 2019, 2020, 2021]\n",
            "Index: []\n",
            "\n",
            "[0 rows x 33 columns]\n",
            "Country Name    0\n",
            "Country Code    0\n",
            "1991            0\n",
            "1992            0\n",
            "1993            0\n",
            "1994            0\n",
            "1995            0\n",
            "1996            0\n",
            "1997            0\n",
            "1998            0\n",
            "1999            0\n",
            "2000            0\n",
            "2001            0\n",
            "2002            0\n",
            "2003            0\n",
            "2004            0\n",
            "2005            0\n",
            "2006            0\n",
            "2007            0\n",
            "2008            0\n",
            "2009            0\n",
            "2010            0\n",
            "2011            0\n",
            "2012            0\n",
            "2013            0\n",
            "2014            0\n",
            "2015            0\n",
            "2016            0\n",
            "2017            0\n",
            "2018            0\n",
            "2019            0\n",
            "2020            0\n",
            "2021            0\n",
            "dtype: int64\n"
          ]
        }
      ]
    },
    {
      "cell_type": "code",
      "source": [
        "\n",
        "# print(df)\n",
        "# df=benin.iloc[:,2:]\n",
        "# outliers=[]\n",
        "# def detect_outlier(data_1):\n",
        "    \n",
        "#     threshold=np.median(data_1)\n",
        "#     mean_1 = np.mean(data_1)\n",
        "#     std_1 =np.std(data_1)\n",
        "    \n",
        "#     for y in data_1:\n",
        "#         z_score= (y - mean_1)/std_1 \n",
        "#         # print(z_score,threshold)\n",
        "#         if np.abs(z_score) > threshold:\n",
        "#             outliers.append(y)\n",
        "#     return outliers\n",
        "# outlier_datapoints = detect_outlier(df)\n",
        "# print(outlier_datapoints)"
      ],
      "metadata": {
        "id": "P47-tugWyVdT"
      },
      "execution_count": null,
      "outputs": []
    },
    {
      "cell_type": "code",
      "source": [
        "benin=(unempdf[unempdf['Country Name']=='Benin']).T.drop(['Country Name','Country Code']).T\n",
        "bah=unempdf[unempdf['Country Name']=='Bahrain'].T.drop(['Country Name','Country Code']).T\n",
        "df=benin.values.tolist()[0]\n",
        "df2=bah.values.tolist()[0]\n",
        "sns.boxplot(df)"
      ],
      "metadata": {
        "id": "MoiFxdvJkEvQ",
        "colab": {
          "base_uri": "https://localhost:8080/",
          "height": 283
        },
        "outputId": "d5b87440-9465-419b-ea7a-932991872f31"
      },
      "execution_count": null,
      "outputs": [
        {
          "output_type": "execute_result",
          "data": {
            "text/plain": [
              "<Axes: >"
            ]
          },
          "metadata": {},
          "execution_count": 154
        },
        {
          "output_type": "display_data",
          "data": {
            "text/plain": [
              "<Figure size 432x288 with 1 Axes>"
            ],
            "image/png": "[encoded data removed]"
          },
          "metadata": {
            "needs_background": "light"
          }
        }
      ]
    },
    {
      "cell_type": "code",
      "source": [
        "sns.boxplot(df2)"
      ],
      "metadata": {
        "colab": {
          "base_uri": "https://localhost:8080/",
          "height": 283
        },
        "id": "CzLsE0mg47ZY",
        "outputId": "0f0aa814-8ca9-43de-a69c-04dacf3d567c"
      },
      "execution_count": null,
      "outputs": [
        {
          "output_type": "execute_result",
          "data": {
            "text/plain": [
              "<Axes: >"
            ]
          },
          "metadata": {},
          "execution_count": 155
        },
        {
          "output_type": "display_data",
          "data": {
            "text/plain": [
              "<Figure size 432x288 with 1 Axes>"
            ],
            "image/png": "[encoded data removed]"
          },
          "metadata": {
            "needs_background": "light"
          }
        }
      ]
    },
    {
      "cell_type": "code",
      "source": [
        "# Function to find outliers using IQR\n",
        "def find_outliers_IQR(df):\n",
        "\n",
        "   q1=df.quantile(0.25)\n",
        "\n",
        "   q3=df.quantile(0.75)\n",
        "\n",
        "   IQR=q3-q1\n",
        "   \n",
        "   outliers = df[((df<(q1-1.5*IQR)) | (df>(q3+1.5*IQR)))]\n",
        "\n",
        "   return outliers\n",
        "# For Benin\n",
        "outliers = find_outliers_IQR(pd.DataFrame(df))\n",
        "\n",
        "print(\"number of outliers: \"+ str(outliers.notna().sum()))\n",
        "\n",
        "print(\"max outlier value: \"+ str(outliers.max()))\n",
        "\n",
        "print(\"min outlier value: \"+ str(outliers.min()))\n",
        "print(outliers)"
      ],
      "metadata": {
        "colab": {
          "base_uri": "https://localhost:8080/"
        },
        "id": "DGOSrC9_5kth",
        "outputId": "16fcd21d-aa19-4dca-be89-c20423b0c45a"
      },
      "execution_count": null,
      "outputs": [
        {
          "output_type": "stream",
          "name": "stdout",
          "text": [
            "number of outliers: 0    1\n",
            "dtype: int64\n",
            "max outlier value: 0    2.65\n",
            "dtype: float64\n",
            "min outlier value: 0    2.65\n",
            "dtype: float64\n",
            "       0\n",
            "0    NaN\n",
            "1    NaN\n",
            "2    NaN\n",
            "3    NaN\n",
            "4    NaN\n",
            "5    NaN\n",
            "6    NaN\n",
            "7    NaN\n",
            "8    NaN\n",
            "9    NaN\n",
            "10   NaN\n",
            "11   NaN\n",
            "12   NaN\n",
            "13   NaN\n",
            "14   NaN\n",
            "15   NaN\n",
            "16   NaN\n",
            "17   NaN\n",
            "18   NaN\n",
            "19   NaN\n",
            "20  2.65\n",
            "21   NaN\n",
            "22   NaN\n",
            "23   NaN\n",
            "24   NaN\n",
            "25   NaN\n",
            "26   NaN\n",
            "27   NaN\n",
            "28   NaN\n",
            "29   NaN\n",
            "30   NaN\n"
          ]
        }
      ]
    },
    {
      "cell_type": "code",
      "source": [
        "# For Bahrain\n",
        "outliers2 = find_outliers_IQR(pd.DataFrame(df2))\n",
        "\n",
        "print(\"number of outliers:\",outliers2.notna().sum())\n",
        "\n",
        "print(\"max outlier value: \"+ str(outliers2.max()))\n",
        "\n",
        "print(\"min outlier value: \"+ str(outliers2.min()))\n",
        "print(outliers2)"
      ],
      "metadata": {
        "colab": {
          "base_uri": "https://localhost:8080/"
        },
        "id": "sZmOATo5913W",
        "outputId": "5563e09f-4ea9-49c7-c531-5a29bfd2e386"
      },
      "execution_count": null,
      "outputs": [
        {
          "output_type": "stream",
          "name": "stdout",
          "text": [
            "number of outliers: 0    4\n",
            "dtype: int64\n",
            "max outlier value: 0    111.2\n",
            "dtype: float64\n",
            "min outlier value: 0    0.00011\n",
            "dtype: float64\n",
            "            0\n",
            "0         NaN\n",
            "1         NaN\n",
            "2         NaN\n",
            "3         NaN\n",
            "4         NaN\n",
            "5         NaN\n",
            "6         NaN\n",
            "7         NaN\n",
            "8         NaN\n",
            "9         NaN\n",
            "10  111.20000\n",
            "11        NaN\n",
            "12        NaN\n",
            "13        NaN\n",
            "14        NaN\n",
            "15    0.00011\n",
            "16        NaN\n",
            "17        NaN\n",
            "18        NaN\n",
            "19        NaN\n",
            "20        NaN\n",
            "21        NaN\n",
            "22        NaN\n",
            "23        NaN\n",
            "24        NaN\n",
            "25        NaN\n",
            "26        NaN\n",
            "27        NaN\n",
            "28        NaN\n",
            "29    1.78000\n",
            "30    1.87000\n"
          ]
        }
      ]
    },
    {
      "cell_type": "code",
      "source": [
        "from statistics import mean\n",
        "for i in range(len(df)):\n",
        "  if df[i] in outliers.values:\n",
        "    df[i] = mean(df)\n",
        "print(df)\n",
        "outliers = find_outliers_IQR(pd.DataFrame(df))\n",
        "print(\"number of outliers: \"+ str(outliers.notna().sum()))"
      ],
      "metadata": {
        "colab": {
          "base_uri": "https://localhost:8080/"
        },
        "id": "p_m5Hyrh9_zs",
        "outputId": "e6b11e4f-a3bd-4d95-f3cb-b610ff50eaac"
      },
      "execution_count": null,
      "outputs": [
        {
          "output_type": "stream",
          "name": "stdout",
          "text": [
            "[1.49, 1.51, 1.41, 1.36, 1.25, 1.18, 1.1, 1.02, 0.94, 0.85, 0.77, 0.69, 0.74, 0.77, 8.2e-06, 0.86, 0.89, 0.94, 1.0, 1.04, 1.320000264516129, 2.47, 2.29, 2.13, 2.01, 1.83, 1.64, 1.47, 1.47, 1.58, 1.57]\n",
            "number of outliers: 0    0\n",
            "dtype: int64\n"
          ]
        }
      ]
    },
    {
      "cell_type": "code",
      "source": [
        "for i in range(len(df2)):\n",
        "  if df2[i] in outliers2.values:\n",
        "    df2[i] = mean(df2)\n",
        "print(df2)\n",
        "outliers2 = find_outliers_IQR(pd.DataFrame(df2))\n",
        "print(\"number of outliers: \"+ str(outliers2.notna().sum()))\n",
        "\n",
        "for i in range(len(df2)):\n",
        "  if df2[i] in outliers2.values:\n",
        "    df2[i] = mean(df2)\n",
        "print(df2)\n",
        "outliers2 = find_outliers_IQR(pd.DataFrame(df2))\n",
        "print(\"number of outliers: \"+ str(outliers2.notna().sum()))\n"
      ],
      "metadata": {
        "colab": {
          "base_uri": "https://localhost:8080/"
        },
        "id": "s-5uEP8IBPIa",
        "outputId": "e6c5e7df-cb11-4048-d66e-b53eb0fa74bf"
      },
      "execution_count": null,
      "outputs": [
        {
          "output_type": "stream",
          "name": "stdout",
          "text": [
            "[1.01, 1.05, 1.01, 1.11, 1.08, 1.08, 1.09, 1.08, 1.09, 1.08, 4.68064870967742, 1.11, 1.09, 1.09, 1.09, 1.2445406035379813, 1.09, 1.11, 1.14, 1.13, 1.18, 1.2, 1.18, 1.19, 1.2, 1.19, 1.18, 1.2, 1.2, 1.284683526232755, 1.2687055754660697]\n",
            "number of outliers: 0    1\n",
            "dtype: int64\n",
            "[1.01, 1.05, 1.01, 1.11, 1.08, 1.08, 1.09, 1.08, 1.09, 1.08, 1.2493089811262654, 1.11, 1.09, 1.09, 1.09, 1.2445406035379813, 1.09, 1.11, 1.14, 1.13, 1.18, 1.2, 1.18, 1.19, 1.2, 1.19, 1.18, 1.2, 1.2, 1.284683526232755, 1.2687055754660697]\n",
            "number of outliers: 0    0\n",
            "dtype: int64\n"
          ]
        }
      ]
    },
    {
      "cell_type": "code",
      "source": [
        "unempdf2 = pd.melt(unempdf,id_vars=['Country Name','Country Code'],var_name='Year',value_name='No. of unemployed')\n",
        "print(unempdf2.head())"
      ],
      "metadata": {
        "colab": {
          "base_uri": "https://localhost:8080/"
        },
        "id": "eiMfpVTQC31V",
        "outputId": "1e4e9e31-5413-4da5-8c13-b058b33f69a1"
      },
      "execution_count": null,
      "outputs": [
        {
          "output_type": "stream",
          "name": "stdout",
          "text": [
            "                  Country Name Country Code  Year  No. of unemployed\n",
            "0  Africa Eastern and Southern          AFE  1991               7.80\n",
            "1                  Afghanistan          AFG  1991              10.65\n",
            "2   Africa Western and Central          AFW  1991               4.42\n",
            "3                       Angola          AGO  1991               4.21\n",
            "4                      Albania          ALB  1991              10.31\n"
          ]
        }
      ]
    },
    {
      "cell_type": "code",
      "source": [
        "df_pivot = unempdf2.groupby(['Country Name','Country Code','Year']).sum().reset_index();\n",
        "print(df_pivot)"
      ],
      "metadata": {
        "colab": {
          "base_uri": "https://localhost:8080/"
        },
        "id": "IHBkeZ4dJedE",
        "outputId": "d4c29626-bfc3-4162-91bc-1485c65e4af7"
      },
      "execution_count": null,
      "outputs": [
        {
          "output_type": "stream",
          "name": "stdout",
          "text": [
            "     Country Name Country Code  Year  No. of unemployed\n",
            "0     Afghanistan          AFG  1991              10.65\n",
            "1     Afghanistan          AFG  1992              10.82\n",
            "2     Afghanistan          AFG  1993              10.72\n",
            "3     Afghanistan          AFG  1994              10.73\n",
            "4     Afghanistan          AFG  1995              11.18\n",
            "...           ...          ...   ...                ...\n",
            "7280     Zimbabwe          ZWE  2017               4.78\n",
            "7281     Zimbabwe          ZWE  2018               4.80\n",
            "7282     Zimbabwe          ZWE  2019               4.83\n",
            "7283     Zimbabwe          ZWE  2020               5.35\n",
            "7284     Zimbabwe          ZWE  2021               5.17\n",
            "\n",
            "[7285 rows x 4 columns]\n"
          ]
        }
      ]
    },
    {
      "cell_type": "code",
      "source": [
        "df_pivot.rename(columns={'Country Name':'Country_name','Country Code':'Country_code'},inplace=True)\n",
        "print(df_pivot.head())"
      ],
      "metadata": {
        "colab": {
          "base_uri": "https://localhost:8080/"
        },
        "id": "6FmaM-JKTvpJ",
        "outputId": "18fffd3f-3406-4124-dec2-e04f0efdc620"
      },
      "execution_count": null,
      "outputs": [
        {
          "output_type": "stream",
          "name": "stdout",
          "text": [
            "  Country_name Country_code  Year  No. of unemployed\n",
            "0  Afghanistan          AFG  1991              10.65\n",
            "1  Afghanistan          AFG  1992              10.82\n",
            "2  Afghanistan          AFG  1993              10.72\n",
            "3  Afghanistan          AFG  1994              10.73\n",
            "4  Afghanistan          AFG  1995              11.18\n"
          ]
        }
      ]
    },
    {
      "cell_type": "code",
      "source": [
        "def descriptive_stats(country_code):\n",
        "  print(\"\\nStatistics for country with code\",country_code)\n",
        "  # Mean, median, mode, standard deviation of \n",
        "  unemp = (df_pivot.loc[df_pivot['Country_code']==country_code])['No. of unemployed']\n",
        "  print(\"Mean:\",unemp.mean())\n",
        "  print(\"Median:\",unemp.median())\n",
        "  print(\"Mode:\",unemp.mode())\n",
        "  print(\"Standard deviation:\",unemp.std())\n",
        "\n",
        "  # Max and min unemployment\n",
        "  matches=df_pivot.loc[df_pivot['No. of unemployed']==unemp.max()]\n",
        "  print(\"Maximum:\\n\",matches.loc[matches['Country_code'] == country_code]['Year'])\n",
        "  matches=df_pivot.loc[df_pivot['No. of unemployed']==unemp.min()]\n",
        "  print(\"Minimum:\\n\",matches.loc[matches['Country_code'] == country_code]['Year'])\n",
        "\n",
        "# 5 countries with maximum unemployment in 2021 were\n",
        "print(\"Top 5 countries with max unemployment in 2021\")\n",
        "unemp2021 = df_pivot.loc[df_pivot['Year']=='2021']\n",
        "top5=unemp2021.nlargest(5,columns='No. of unemployed')\n",
        "print(top5)\n",
        "\n",
        "# Top 3 countries with unemployment greater than 2021 \n",
        "print(\"Top 3 countries with unemployment greater than 5 lakhs in 2021\")\n",
        "print(unemp2021.loc[unemp2021['No. of unemployed']>5].nlargest(3,columns='No. of unemployed'))\n",
        "\n",
        "# Percentage change in unemployment\n",
        "print(\"Percentage change in unemployment\")\n",
        "# pct = top5['No. of unemployed'].pct_change()\n",
        "top5rec = pd.DataFrame()\n",
        "for i in top5['Country_name']:\n",
        "  top5rec = top5rec.append(df_pivot.loc[df_pivot['Country_name']==i])\n",
        "# print(top5rec.groupby(['Country_name','Country_code']).first())\n",
        "# print(top5rec['Country_name'].unique())\n",
        "pct = top5rec.groupby(['Country_name','Country_code'])['No. of unemployed'].pct_change().mul(100).round(2).shift(-1)\n",
        "print(pct)\n",
        "descriptive_stats('AFG')"
      ],
      "metadata": {
        "colab": {
          "base_uri": "https://localhost:8080/"
        },
        "id": "qZNfAAWgVKvm",
        "outputId": "15219a24-bf10-4d22-83d8-6be73c2b14fe"
      },
      "execution_count": null,
      "outputs": [
        {
          "output_type": "stream",
          "name": "stdout",
          "text": [
            "Top 5 countries with max unemployment in 2021\n",
            "            Country_name Country_code  Year  No. of unemployed\n",
            "5982        South Africa          ZAF  2021              33.56\n",
            "1611            Djibouti          DJI  2021              28.39\n",
            "1983            Eswatini          SWZ  2021              25.76\n",
            "7160  West Bank and Gaza          PSE  2021              24.90\n",
            "743             Botswana          BWA  2021              24.72\n",
            "Top 3 countries with unemployment greater than 5 lakhs in 2021\n",
            "      Country_name Country_code  Year  No. of unemployed\n",
            "5982  South Africa          ZAF  2021              33.56\n",
            "1611      Djibouti          DJI  2021              28.39\n",
            "1983      Eswatini          SWZ  2021              25.76\n",
            "Percentage change in unemployment\n",
            "5952     0.10\n",
            "5953    -0.20\n",
            "5954    -0.10\n",
            "5955     0.00\n",
            "5956    -0.07\n",
            "        ...  \n",
            "739      2.32\n",
            "740      2.45\n",
            "741     10.26\n",
            "742     -0.84\n",
            "743       NaN\n",
            "Name: No. of unemployed, Length: 155, dtype: float64\n",
            "\n",
            "Statistics for country with code AFG\n",
            "Mean: 11.141290322580645\n",
            "Median: 11.14\n",
            "Mode: 0    10.81\n",
            "Name: No. of unemployed, dtype: float64\n",
            "Standard deviation: 0.4619721631980571\n",
            "Maximum:\n",
            " 30    2021\n",
            "Name: Year, dtype: object\n",
            "Minimum:\n",
            " 0    1991\n",
            "Name: Year, dtype: object\n"
          ]
        }
      ]
    },
    {
      "cell_type": "code",
      "source": [
        "descriptive_stats('BGR')"
      ],
      "metadata": {
        "id": "ykC5ItIiocdG",
        "colab": {
          "base_uri": "https://localhost:8080/"
        },
        "outputId": "c569eab0-70e9-4e10-9432-3caba8b8431c"
      },
      "execution_count": null,
      "outputs": [
        {
          "output_type": "stream",
          "name": "stdout",
          "text": [
            "\n",
            "Statistics for country with code BGR\n",
            "Mean: 10.92193548387097\n",
            "Median: 11.26\n",
            "Mode: 0    11.1\n",
            "Name: No. of unemployed, dtype: float64\n",
            "Standard deviation: 4.064550339504431\n",
            "Maximum:\n",
            " 816    2001\n",
            "Name: Year, dtype: object\n",
            "Minimum:\n",
            " 834    2019\n",
            "Name: Year, dtype: object\n"
          ]
        }
      ]
    },
    {
      "cell_type": "markdown",
      "source": [
        "Minimum employment for country with code BGR was in 2019"
      ],
      "metadata": {
        "id": "fD0Q3a7QECcO"
      }
    },
    {
      "cell_type": "code",
      "source": [
        "pct = df_pivot.groupby(['Country_name','Country_code'])['No. of unemployed'].pct_change()\n",
        "lis = [df_pivot.iloc[:,0:2],pct]\n",
        "undf2=pd.concat(lis,axis=1,join='inner')\n",
        "undf2.rename(columns = {'No. of unemployed':'% change in unemp. compared to prev year'}, inplace = True)\n",
        "print(undf2)"
      ],
      "metadata": {
        "colab": {
          "base_uri": "https://localhost:8080/"
        },
        "id": "RUnqFUcmEGek",
        "outputId": "7f188ea3-66b0-4fd7-a6bc-b40c4347fe83"
      },
      "execution_count": null,
      "outputs": [
        {
          "output_type": "stream",
          "name": "stdout",
          "text": [
            "     Country_name Country_code  % change in unemp. compared to prev year\n",
            "0     Afghanistan          AFG                                       NaN\n",
            "1     Afghanistan          AFG                                  0.015962\n",
            "2     Afghanistan          AFG                                 -0.009242\n",
            "3     Afghanistan          AFG                                  0.000933\n",
            "4     Afghanistan          AFG                                  0.041938\n",
            "...           ...          ...                                       ...\n",
            "7280     Zimbabwe          ZWE                                 -0.002088\n",
            "7281     Zimbabwe          ZWE                                  0.004184\n",
            "7282     Zimbabwe          ZWE                                  0.006250\n",
            "7283     Zimbabwe          ZWE                                  0.107660\n",
            "7284     Zimbabwe          ZWE                                 -0.033645\n",
            "\n",
            "[7285 rows x 3 columns]\n"
          ]
        }
      ]
    },
    {
      "cell_type": "code",
      "source": [
        "japan=df_pivot[df_pivot['Country_name']=='Japan']\n",
        "print(japan)\n",
        "descriptive_stats('JPN')"
      ],
      "metadata": {
        "colab": {
          "base_uri": "https://localhost:8080/"
        },
        "id": "hkoYyUFCkY-w",
        "outputId": "081d1e46-ac2d-49fa-f6d0-ec1187a370b3"
      },
      "execution_count": null,
      "outputs": [
        {
          "output_type": "stream",
          "name": "stdout",
          "text": [
            "     Country_name Country_code  Year  No. of unemployed\n",
            "3286        Japan          JPN  1991               2.10\n",
            "3287        Japan          JPN  1992               2.20\n",
            "3288        Japan          JPN  1993               2.50\n",
            "3289        Japan          JPN  1994               2.90\n",
            "3290        Japan          JPN  1995               3.20\n",
            "3291        Japan          JPN  1996               3.40\n",
            "3292        Japan          JPN  1997               3.40\n",
            "3293        Japan          JPN  1998               4.10\n",
            "3294        Japan          JPN  1999               4.70\n",
            "3295        Japan          JPN  2000               4.75\n",
            "3296        Japan          JPN  2001               5.02\n",
            "3297        Japan          JPN  2002               5.39\n",
            "3298        Japan          JPN  2003               5.25\n",
            "3299        Japan          JPN  2004               4.73\n",
            "3300        Japan          JPN  2005               4.45\n",
            "3301        Japan          JPN  2006               4.19\n",
            "3302        Japan          JPN  2007               3.89\n",
            "3303        Japan          JPN  2008               4.00\n",
            "3304        Japan          JPN  2009               5.07\n",
            "3305        Japan          JPN  2010               5.10\n",
            "3306        Japan          JPN  2011               4.55\n",
            "3307        Japan          JPN  2012               4.36\n",
            "3308        Japan          JPN  2013               4.00\n",
            "3309        Japan          JPN  2014               3.60\n",
            "3310        Japan          JPN  2015               3.40\n",
            "3311        Japan          JPN  2016               3.10\n",
            "3312        Japan          JPN  2017               2.80\n",
            "3313        Japan          JPN  2018               2.40\n",
            "3314        Japan          JPN  2019               2.40\n",
            "3315        Japan          JPN  2020               2.80\n",
            "3316        Japan          JPN  2021               2.80\n",
            "\n",
            "Statistics for country with code JPN\n",
            "Mean: 3.759677419354839\n",
            "Median: 3.89\n",
            "Mode: 0    2.8\n",
            "1    3.4\n",
            "Name: No. of unemployed, dtype: float64\n",
            "Standard deviation: 0.9969569829267718\n",
            "Maximum:\n",
            " 3297    2002\n",
            "Name: Year, dtype: object\n",
            "Minimum:\n",
            " 3286    1991\n",
            "Name: Year, dtype: object\n"
          ]
        }
      ]
    },
    {
      "cell_type": "markdown",
      "source": [
        "Comparing Japan's unemployment rate in 1991 with next year since previous year data is not available"
      ],
      "metadata": {
        "id": "Dnpx0IKPl3C5"
      }
    },
    {
      "cell_type": "code",
      "source": [
        "pctnextyr = japan['No. of unemployed'].pct_change().mul(100).round(2).shift(-1)\n",
        "print(pctnextyr.iloc[0])"
      ],
      "metadata": {
        "colab": {
          "base_uri": "https://localhost:8080/"
        },
        "id": "YAuHgP12l2kV",
        "outputId": "ec7597d6-612c-41a5-da92-9fac445bc892"
      },
      "execution_count": null,
      "outputs": [
        {
          "output_type": "stream",
          "name": "stdout",
          "text": [
            "4.76\n"
          ]
        }
      ]
    },
    {
      "cell_type": "markdown",
      "source": [
        "Unemployment rate of 1991 was 4.76% greater than when compared to 1992\n",
        "(since % change = 1992_val-1991_val/1991_val)"
      ],
      "metadata": {
        "id": "70-uD5LonTf0"
      }
    },
    {
      "cell_type": "code",
      "source": [
        "print(undf2[undf2['Country_code']=='MDA']['% change in unemp. compared to prev year'].min())"
      ],
      "metadata": {
        "colab": {
          "base_uri": "https://localhost:8080/"
        },
        "id": "QDYCT2qKnrZJ",
        "outputId": "eb95d78e-a9cf-4111-a8c2-6e41d3bf60c8"
      },
      "execution_count": null,
      "outputs": [
        {
          "output_type": "stream",
          "name": "stdout",
          "text": [
            "-0.3130081300813008\n"
          ]
        }
      ]
    },
    {
      "cell_type": "markdown",
      "source": [
        "## Plots"
      ],
      "metadata": {
        "id": "I903M4GUtX3X"
      }
    },
    {
      "cell_type": "code",
      "source": [
        "top10unemp=unemp2021.nlargest(10,columns='No. of unemployed')\n",
        "top10unemp.plot.bar(x='Country_name', y=\"No. of unemployed\", rot=70, title=\"No. of unemployed - Year 2021\");\n",
        "plt.xlabel(\"Country name\")\n",
        "plt.ylabel(\"No. of unemployed (in lakhs)\")\n",
        "plt.show()"
      ],
      "metadata": {
        "colab": {
          "base_uri": "https://localhost:8080/",
          "height": 435
        },
        "id": "cxlqVEG-ta_Z",
        "outputId": "07700c9b-f8bd-40ff-f347-3ef57e750882"
      },
      "execution_count": null,
      "outputs": [
        {
          "output_type": "display_data",
          "data": {
            "text/plain": [
              "<Figure size 432x288 with 1 Axes>"
            ],
            "image/png": "[encoded data removed]"
          },
          "metadata": {
            "needs_background": "light"
          }
        }
      ]
    },
    {
      "cell_type": "code",
      "source": [
        "top5rec['% change'] = top5rec[top5rec['Year']>'1998'][top5rec['Year']<'2020']['No. of unemployed'].pct_change()\n",
        "for i in top5rec.dropna()['Country_name'].unique():\n",
        "  top5rec[top5rec['Country_name']==i].plot.line(x='Year',y='% change',label=i)\n",
        "  plt.xlabel(\"Years between 2000 and 2019\")\n",
        "  plt.ylabel(\"% change in unemployment\")\n",
        "plt.legend()\n",
        "plt.show()"
      ],
      "metadata": {
        "colab": {
          "base_uri": "https://localhost:8080/",
          "height": 1000
        },
        "id": "G6b0TVTTunep",
        "outputId": "209228bf-059e-4335-a247-1c8ffe0fa9f4"
      },
      "execution_count": null,
      "outputs": [
        {
          "output_type": "display_data",
          "data": {
            "text/plain": [
              "<Figure size 432x288 with 1 Axes>"
            ],
            "image/png": "[encoded data removed]"
          },
          "metadata": {
            "needs_background": "light"
          }
        },
        {
          "output_type": "display_data",
          "data": {
            "text/plain": [
              "<Figure size 432x288 with 1 Axes>"
            ],
            "image/png": "[encoded data removed]"
          },
          "metadata": {
            "needs_background": "light"
          }
        },
        {
          "output_type": "display_data",
          "data": {
            "text/plain": [
              "<Figure size 432x288 with 1 Axes>"
            ],
            "image/png": "[encoded data removed]"
          },
          "metadata": {
            "needs_background": "light"
          }
        },
        {
          "output_type": "display_data",
          "data": {
            "text/plain": [
              "<Figure size 432x288 with 1 Axes>"
            ],
            "image/png": "[encoded data removed]"
          },
          "metadata": {
            "needs_background": "light"
          }
        },
        {
          "output_type": "display_data",
          "data": {
            "text/plain": [
              "<Figure size 432x288 with 1 Axes>"
            ],
            "image/png": "[encoded data removed]"
          },
          "metadata": {
            "needs_background": "light"
          }
        }
      ]
    },
    {
      "cell_type": "markdown",
      "source": [
        "Below for prediction plot"
      ],
      "metadata": {
        "id": "hu91YIjJyJT5"
      }
    },
    {
      "cell_type": "code",
      "source": [],
      "metadata": {
        "id": "uOvr4SalyHgF"
      },
      "execution_count": null,
      "outputs": []
    },
    {
      "cell_type": "code",
      "source": [
        "wsm=df_pivot[df_pivot['Country_code']=='WSM']\n",
        "# print(wsm.iloc[::5,:])\n",
        "wsm.iloc[::5,:].plot.line(x='Year',y='No. of unemployed')\n",
        "plt.xlabel(\"Year\")\n",
        "plt.ylabel(\"No. of unemployed (in lakhs)\")\n",
        "plt.show()"
      ],
      "metadata": {
        "colab": {
          "base_uri": "https://localhost:8080/",
          "height": 279
        },
        "id": "4gpSe8G6yIJw",
        "outputId": "71ef0ae4-8291-409e-910a-6b1d1376ab21"
      },
      "execution_count": null,
      "outputs": [
        {
          "output_type": "display_data",
          "data": {
            "text/plain": [
              "<Figure size 432x288 with 1 Axes>"
            ],
            "image/png": "[encoded data removed]"
          },
          "metadata": {
            "needs_background": "light"
          }
        }
      ]
    },
    {
      "cell_type": "markdown",
      "source": [
        "The above graphs on 2021's 5 highest unemployed countries show that most of them are stabilizing at rate while South Africa and Djibouti's are still increasing percent change of unemployment."
      ],
      "metadata": {
        "id": "WQc4EjDOzNNM"
      }
    },
    {
      "cell_type": "markdown",
      "source": [
        "## ML prediction"
      ],
      "metadata": {
        "id": "q5b0AgU92syT"
      }
    },
    {
      "cell_type": "code",
      "source": [
        "from statsmodels.tsa.arima_model import ARMA\n",
        "from sklearn.model_selection import train_test_split"
      ],
      "metadata": {
        "id": "ttULuP81y_Ot"
      },
      "execution_count": null,
      "outputs": []
    },
    {
      "cell_type": "code",
      "source": [
        "# years['MA_3'] = years.iloc[:,1].rolling(window=3).mean()\n",
        "# print(years)\n",
        "def sma(data, n):\n",
        "  sma = data.rolling(window = n).mean()\n",
        "  return pd.DataFrame(sma)\n",
        "\n",
        "def predict_future(no_yr):\n",
        "  for i in range(no_yr):\n",
        "    years[f'sma_3_{i}'] = sma(years.iloc[:-(i+1),1], 3)\n",
        "  print(years.tail())\n",
        "\n",
        "predict_future(2)"
      ],
      "metadata": {
        "colab": {
          "base_uri": "https://localhost:8080/"
        },
        "id": "RD2YXUYt3Idi",
        "outputId": "90765196-230b-471a-c989-7fe84fdc0cbe"
      },
      "execution_count": null,
      "outputs": [
        {
          "output_type": "stream",
          "name": "stdout",
          "text": [
            "      1991   1992   1993   1994   1995   1996   1997   1998   1999   2000  \\\n",
            "230   2.10   2.38   2.63   3.04   3.19   3.47   3.90   4.18   4.48   4.66   \n",
            "231   8.32   8.31   8.35   8.34   8.96   9.59  10.20  10.81  11.46  11.56   \n",
            "232  29.95  29.98  29.92  29.89  29.89  29.87  29.91  29.95  29.91  29.88   \n",
            "233  18.90  19.37  19.70  18.43  16.81  15.30  13.64  12.00  12.44  12.93   \n",
            "234   4.94   4.99   4.97   4.96   5.63   6.25   6.93   6.46   6.00   5.69   \n",
            "\n",
            "     ...   2014   2015   2016   2017   2018   2019   2020   2021    sma_3_0  \\\n",
            "230  ...   8.72   8.50   8.31   8.58   8.69   8.41   9.15   9.84   3.010000   \n",
            "231  ...  13.47  13.77  13.43  13.30  13.15  13.06  13.39  13.57   5.216667   \n",
            "232  ...  24.89  25.15  26.54  27.04  26.91  28.47  29.22  33.56  13.556667   \n",
            "233  ...   9.36  10.13  10.87  11.63  12.01  12.52  12.85  13.03  19.220000   \n",
            "234  ...   4.77   4.78   4.79   4.78   4.80   4.83   5.35   5.17        NaN   \n",
            "\n",
            "       sma_3_1  \n",
            "230   3.010000  \n",
            "231   5.216667  \n",
            "232  13.556667  \n",
            "233        NaN  \n",
            "234        NaN  \n",
            "\n",
            "[5 rows x 33 columns]\n"
          ]
        }
      ]
    },
    {
      "cell_type": "code",
      "source": [
        "plt.plot(years.iloc[:,1], label = 'Years', linewidth = 5, alpha = 0.3)\n",
        "plt.plot(years['sma_3_0'], label = 'Year 2022')\n",
        "plt.plot(years['sma_3_1'], label = 'Year 2023')\n",
        "plt.title('Simple Moving Averages - 3 months')\n",
        "plt.legend(loc = 'upper left')\n",
        "plt.show()"
      ],
      "metadata": {
        "colab": {
          "base_uri": "https://localhost:8080/",
          "height": 281
        },
        "id": "hmnb3nT45vsx",
        "outputId": "fe3fd4e0-8d37-463c-b5e6-e27aa519c376"
      },
      "execution_count": null,
      "outputs": [
        {
          "output_type": "display_data",
          "data": {
            "text/plain": [
              "<Figure size 432x288 with 1 Axes>"
            ],
            "image/png": "[encoded data removed]"
          },
          "metadata": {
            "needs_background": "light"
          }
        }
      ]
    },
    {
      "cell_type": "code",
      "source": [
        "print(\"Minimum in 2022:\",years['sma_3_0'].min(),\"\\nMaximum in 2022:\",years['sma_3_0'].max())\n",
        "print(\"Minimum in 2023:\",years['sma_3_1'].min(),\"\\nMaximum in 2023:\",years['sma_3_1'].max())"
      ],
      "metadata": {
        "colab": {
          "base_uri": "https://localhost:8080/"
        },
        "id": "segJ2nrrHjwQ",
        "outputId": "669264ac-a0dd-4a29-8a19-dd77584d291a"
      },
      "execution_count": null,
      "outputs": [
        {
          "output_type": "stream",
          "name": "stdout",
          "text": [
            "Minimum in 2022: 1.3566666666666656 \n",
            "Maximum in 2022: 19.22\n",
            "Minimum in 2023: 1.3566666666666656 \n",
            "Maximum in 2023: 15.446666666666665\n"
          ]
        }
      ]
    },
    {
      "cell_type": "code",
      "source": [
        "from statsmodels.tsa.arima.model import ARIMA\n",
        "msk = (years.index < len(years)-30)\n",
        "df_train = years[msk].copy()\n",
        "df_test = years[~msk].copy()\n",
        "model = ARIMA(df_train, order=(2,1,0))\n",
        "model_fit = model.fit()\n",
        "print(model_fit.summary())"
      ],
      "metadata": {
        "id": "CzBOOXGZJSdL"
      },
      "execution_count": null,
      "outputs": []
    }
  ]
}